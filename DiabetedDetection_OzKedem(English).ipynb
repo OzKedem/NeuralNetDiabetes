{
  "nbformat": 4,
  "nbformat_minor": 0,
  "metadata": {
    "colab": {
      "name": "DiabetedDetection_OzKedem(English).ipynb",
      "provenance": [],
      "authorship_tag": "ABX9TyPtwaq//mlRFXUPkdL4u+O4",
      "include_colab_link": true
    },
    "kernelspec": {
      "name": "python3",
      "display_name": "Python 3"
    },
    "language_info": {
      "name": "python"
    }
  },
  "cells": [
    {
      "cell_type": "markdown",
      "metadata": {
        "id": "view-in-github",
        "colab_type": "text"
      },
      "source": [
        "<a href=\"https://colab.research.google.com/github/OzKedem/NeuralNetDiabetes/blob/master/DiabetedDetection_OzKedem(English).ipynb\" target=\"_parent\"><img src=\"https://colab.research.google.com/assets/colab-badge.svg\" alt=\"Open In Colab\"/></a>"
      ]
    },
    {
      "cell_type": "markdown",
      "source": [
        "## Deep Learning Project - Oz Kedem - Computer Science 5 Units "
      ],
      "metadata": {
        "id": "zh6FP3WLgUIL"
      }
    },
    {
      "cell_type": "markdown",
      "source": [
        "The project that you're about to see revolves around building a neural network which can predict whether a person is in risk of developing diabetes type 2.\n",
        "More information regarding this work as well as the database I used can be found here:\n",
        "https://github.com/OzKedem/NeuralNetDiabetes"
      ],
      "metadata": {
        "id": "zWWJyuRQgZ1b"
      }
    },
    {
      "cell_type": "markdown",
      "source": [
        "## Importing The Needed Libraries"
      ],
      "metadata": {
        "id": "cwX_ay_2hsqj"
      }
    },
    {
      "cell_type": "code",
      "execution_count": 1,
      "metadata": {
        "id": "IRVhUuU9bR_T"
      },
      "outputs": [],
      "source": [
        "#First, let's import the needed libraries \n",
        "from numpy import loadtxt\n",
        "from keras.models import Sequential\n",
        "from keras.layers import Dense\n",
        "from keras.utils import np_utils\n",
        "import pandas as pd\n",
        "import numpy as np\n",
        "import matplotlib.pyplot as plt\n",
        "from sklearn.preprocessing import scale\n",
        "from sklearn.metrics import accuracy_score\n",
        "from sklearn.model_selection import train_test_split"
      ]
    },
    {
      "cell_type": "markdown",
      "source": [
        "## 1. Load Data"
      ],
      "metadata": {
        "id": "EEsqbvV-hF5m"
      }
    },
    {
      "cell_type": "markdown",
      "metadata": {
        "id": "tK4g-KLibR_e"
      },
      "source": [
        "All of the input variables that describe each patient are numerical. \n",
        "\n",
        "Hence, load the file as a matrix of floats using the NumPy function `loadtxt()`.\n",
        "\n",
        "There are eight input variables and one output variable (the last column). We will be learning a model to map rows of input variables (X) to an output variable (y).\n",
        "\n",
        "The variables can be summarized as follows:\n",
        "\n",
        "<b>Input Variables (X):</b>\n",
        "\n",
        "0. Number of times pregnant\n",
        "1. Plasma glucose concentration a 2 hours in an oral glucose tolerance test\n",
        "2. Diastolic blood pressure (mm Hg)\n",
        "3. Triceps skin fold thickness (mm)\n",
        "4. 2-Hour serum insulin (mu U/ml)\n",
        "5. Body mass index (weight in kg/(height in m)^2)\n",
        "6. Diabetes pedigree function\n",
        "7. Age (years)\n",
        "\n",
        "<b>Output Variables (y):</b>\n",
        "\n",
        "8. Class variable (0 or 1)"
      ]
    },
    {
      "cell_type": "code",
      "execution_count": 2,
      "metadata": {
        "id": "n-F_3XJobR_g"
      },
      "outputs": [],
      "source": [
        "# Creating the matrice who's used for holding our data init.\n",
        "dataset = loadtxt('/content/pima-indians-diabetes.csv', delimiter=',')"
      ]
    },
    {
      "cell_type": "code",
      "execution_count": 3,
      "metadata": {
        "id": "v47nM6LubR_i",
        "outputId": "44049974-5c64-4f5b-c203-fbe5d960864c",
        "colab": {
          "base_uri": "https://localhost:8080/"
        }
      },
      "outputs": [
        {
          "output_type": "execute_result",
          "data": {
            "text/plain": [
              "array([[  6.   , 148.   ,  72.   , ...,   0.627,  50.   ,   1.   ],\n",
              "       [  1.   ,  85.   ,  66.   , ...,   0.351,  31.   ,   0.   ],\n",
              "       [  8.   , 183.   ,  64.   , ...,   0.672,  32.   ,   1.   ],\n",
              "       ...,\n",
              "       [  5.   , 121.   ,  72.   , ...,   0.245,  30.   ,   0.   ],\n",
              "       [  1.   , 126.   ,  60.   , ...,   0.349,  47.   ,   1.   ],\n",
              "       [  1.   ,  93.   ,  70.   , ...,   0.315,  23.   ,   0.   ]])"
            ]
          },
          "metadata": {},
          "execution_count": 3
        }
      ],
      "source": [
        "dataset\n",
        "#An example of the way our table is represented as a 2D array"
      ]
    },
    {
      "cell_type": "code",
      "execution_count": 4,
      "metadata": {
        "id": "odtjOyPLbR_j"
      },
      "outputs": [],
      "source": [
        "# Split into input (X) and output (y) variables\n",
        "X = dataset[:,0:8]\n",
        "y = dataset[:,8]"
      ]
    },
    {
      "cell_type": "code",
      "execution_count": 6,
      "metadata": {
        "colab": {
          "base_uri": "https://localhost:8080/"
        },
        "id": "XYeOAxiRbR_k",
        "outputId": "16f9ec47-a211-4afc-b5fd-afab5d34e142"
      },
      "outputs": [
        {
          "output_type": "stream",
          "name": "stdout",
          "text": [
            "Scaled_X:\n",
            " [[ 0.63994726  0.84832379  0.14964075 ...  0.20401277  0.46849198\n",
            "   1.4259954 ]\n",
            " [-0.84488505 -1.12339636 -0.16054575 ... -0.68442195 -0.36506078\n",
            "  -0.19067191]\n",
            " [ 1.23388019  1.94372388 -0.26394125 ... -1.10325546  0.60439732\n",
            "  -0.10558415]\n",
            " ...\n",
            " [ 0.3429808   0.00330087  0.14964075 ... -0.73518964 -0.68519336\n",
            "  -0.27575966]\n",
            " [-0.84488505  0.1597866  -0.47073225 ... -0.24020459 -0.37110101\n",
            "   1.17073215]\n",
            " [-0.84488505 -0.8730192   0.04624525 ... -0.20212881 -0.47378505\n",
            "  -0.87137393]]\n"
          ]
        }
      ],
      "source": [
        "#Scaling our Input Variables.\n",
        "X_scaled = scale(X) \n",
        "print('Scaled_X:\\n', X_scaled)"
      ]
    },
    {
      "cell_type": "code",
      "execution_count": 7,
      "metadata": {
        "id": "csls-3JrbR_l"
      },
      "outputs": [],
      "source": [
        "#Split dataset into 'train' & 'test' sets\n",
        "X_train, X_test, y_train, y_test = train_test_split(X_scaled, y, test_size=0.33, random_state=42)"
      ]
    },
    {
      "cell_type": "code",
      "execution_count": 8,
      "metadata": {
        "id": "JBm415gEbR_m",
        "outputId": "4b24dacc-eb27-40ae-f841-1ea1fe15c9c4",
        "colab": {
          "base_uri": "https://localhost:8080/"
        }
      },
      "outputs": [
        {
          "output_type": "stream",
          "name": "stdout",
          "text": [
            "Y_Train Encoded:\n",
            " [[1. 0.]\n",
            " [1. 0.]\n",
            " [1. 0.]\n",
            " ...\n",
            " [0. 1.]\n",
            " [0. 1.]\n",
            " [1. 0.]]\n"
          ]
        }
      ],
      "source": [
        "# Turning our array to A matrice\n",
        "y_train = np_utils.to_categorical(y_train)\n",
        "\n",
        "print('Y_Train Encoded:\\n', y_train)"
      ]
    },
    {
      "cell_type": "markdown",
      "metadata": {
        "id": "09Uv8Z1ZbR_m"
      },
      "source": [
        "## 2. Define Keras Model\n",
        "\n",
        "\n",
        "The model design:\n",
        "\n",
        "- 3 layers.\n",
        "- 22 total neurons.\n",
        "- ReLU , Leaky ReLU & Sigmoid activation functions.\n",
        "- Adam Optimization Function\n",
        "- Binary Crossentropy Lose Function"
      ]
    },
    {
      "cell_type": "code",
      "execution_count": 9,
      "metadata": {
        "id": "c1IkLgSjbR_n"
      },
      "outputs": [],
      "source": [
        "#Define the keras model\n",
        "model = Sequential()\n",
        "model.add(Dense(12, input_dim=8, activation='LeakyReLU'))\n",
        "model.add(Dense(8, activation='ReLU'))\n",
        "model.add(Dense(2, activation='sigmoid'))"
      ]
    },
    {
      "cell_type": "markdown",
      "source": [
        "## 3.Compile Keras Model"
      ],
      "metadata": {
        "id": "QFtx55vpjZNZ"
      }
    },
    {
      "cell_type": "code",
      "execution_count": 10,
      "metadata": {
        "id": "hr73Cg6UbR_n"
      },
      "outputs": [],
      "source": [
        "model.compile(loss='binary_crossentropy', optimizer='adam', metrics=['accuracy'])"
      ]
    },
    {
      "cell_type": "markdown",
      "source": [
        "## 4.Fit Keras Model"
      ],
      "metadata": {
        "id": "rCamctrdjioS"
      }
    },
    {
      "cell_type": "code",
      "execution_count": 11,
      "metadata": {
        "colab": {
          "base_uri": "https://localhost:8080/"
        },
        "id": "SzAzRmvsbR_o",
        "outputId": "4637ebc8-ec2c-49d3-f301-72aeca869e55"
      },
      "outputs": [
        {
          "output_type": "stream",
          "name": "stdout",
          "text": [
            "Epoch 1/150\n",
            "35/35 [==============================] - 1s 7ms/step - loss: 0.6379 - accuracy: 0.7122 - val_loss: 0.6231 - val_accuracy: 0.7176\n",
            "Epoch 2/150\n",
            "35/35 [==============================] - 0s 3ms/step - loss: 0.5893 - accuracy: 0.7384 - val_loss: 0.5844 - val_accuracy: 0.7471\n",
            "Epoch 3/150\n",
            "35/35 [==============================] - 0s 3ms/step - loss: 0.5527 - accuracy: 0.7471 - val_loss: 0.5536 - val_accuracy: 0.7412\n",
            "Epoch 4/150\n",
            "35/35 [==============================] - 0s 4ms/step - loss: 0.5219 - accuracy: 0.7674 - val_loss: 0.5317 - val_accuracy: 0.7471\n",
            "Epoch 5/150\n",
            "35/35 [==============================] - 0s 3ms/step - loss: 0.4969 - accuracy: 0.7820 - val_loss: 0.5143 - val_accuracy: 0.7412\n",
            "Epoch 6/150\n",
            "35/35 [==============================] - 0s 3ms/step - loss: 0.4799 - accuracy: 0.7762 - val_loss: 0.5027 - val_accuracy: 0.7471\n",
            "Epoch 7/150\n",
            "35/35 [==============================] - 0s 3ms/step - loss: 0.4674 - accuracy: 0.7791 - val_loss: 0.4983 - val_accuracy: 0.7412\n",
            "Epoch 8/150\n",
            "35/35 [==============================] - 0s 2ms/step - loss: 0.4581 - accuracy: 0.7878 - val_loss: 0.4938 - val_accuracy: 0.7471\n",
            "Epoch 9/150\n",
            "35/35 [==============================] - 0s 3ms/step - loss: 0.4521 - accuracy: 0.7791 - val_loss: 0.4912 - val_accuracy: 0.7412\n",
            "Epoch 10/150\n",
            "35/35 [==============================] - 0s 4ms/step - loss: 0.4474 - accuracy: 0.7849 - val_loss: 0.4899 - val_accuracy: 0.7294\n",
            "Epoch 11/150\n",
            "35/35 [==============================] - 0s 3ms/step - loss: 0.4440 - accuracy: 0.7907 - val_loss: 0.4885 - val_accuracy: 0.7412\n",
            "Epoch 12/150\n",
            "35/35 [==============================] - 0s 3ms/step - loss: 0.4406 - accuracy: 0.7878 - val_loss: 0.4878 - val_accuracy: 0.7412\n",
            "Epoch 13/150\n",
            "35/35 [==============================] - 0s 4ms/step - loss: 0.4369 - accuracy: 0.7878 - val_loss: 0.4880 - val_accuracy: 0.7412\n",
            "Epoch 14/150\n",
            "35/35 [==============================] - 0s 3ms/step - loss: 0.4351 - accuracy: 0.7878 - val_loss: 0.4868 - val_accuracy: 0.7412\n",
            "Epoch 15/150\n",
            "35/35 [==============================] - 0s 3ms/step - loss: 0.4326 - accuracy: 0.7936 - val_loss: 0.4868 - val_accuracy: 0.7471\n",
            "Epoch 16/150\n",
            "35/35 [==============================] - 0s 2ms/step - loss: 0.4304 - accuracy: 0.7907 - val_loss: 0.4851 - val_accuracy: 0.7471\n",
            "Epoch 17/150\n",
            "35/35 [==============================] - 0s 2ms/step - loss: 0.4284 - accuracy: 0.7994 - val_loss: 0.4853 - val_accuracy: 0.7471\n",
            "Epoch 18/150\n",
            "35/35 [==============================] - 0s 3ms/step - loss: 0.4276 - accuracy: 0.7965 - val_loss: 0.4850 - val_accuracy: 0.7471\n",
            "Epoch 19/150\n",
            "35/35 [==============================] - 0s 3ms/step - loss: 0.4252 - accuracy: 0.7965 - val_loss: 0.4837 - val_accuracy: 0.7588\n",
            "Epoch 20/150\n",
            "35/35 [==============================] - 0s 3ms/step - loss: 0.4241 - accuracy: 0.7965 - val_loss: 0.4818 - val_accuracy: 0.7588\n",
            "Epoch 21/150\n",
            "35/35 [==============================] - 0s 3ms/step - loss: 0.4225 - accuracy: 0.7936 - val_loss: 0.4816 - val_accuracy: 0.7588\n",
            "Epoch 22/150\n",
            "35/35 [==============================] - 0s 3ms/step - loss: 0.4214 - accuracy: 0.7965 - val_loss: 0.4807 - val_accuracy: 0.7647\n",
            "Epoch 23/150\n",
            "35/35 [==============================] - 0s 4ms/step - loss: 0.4199 - accuracy: 0.7994 - val_loss: 0.4789 - val_accuracy: 0.7588\n",
            "Epoch 24/150\n",
            "35/35 [==============================] - 0s 3ms/step - loss: 0.4185 - accuracy: 0.7994 - val_loss: 0.4797 - val_accuracy: 0.7588\n",
            "Epoch 25/150\n",
            "35/35 [==============================] - 0s 3ms/step - loss: 0.4170 - accuracy: 0.7965 - val_loss: 0.4806 - val_accuracy: 0.7529\n",
            "Epoch 26/150\n",
            "35/35 [==============================] - 0s 3ms/step - loss: 0.4161 - accuracy: 0.7994 - val_loss: 0.4774 - val_accuracy: 0.7647\n",
            "Epoch 27/150\n",
            "35/35 [==============================] - 0s 2ms/step - loss: 0.4151 - accuracy: 0.8023 - val_loss: 0.4785 - val_accuracy: 0.7647\n",
            "Epoch 28/150\n",
            "35/35 [==============================] - 0s 3ms/step - loss: 0.4137 - accuracy: 0.8023 - val_loss: 0.4789 - val_accuracy: 0.7588\n",
            "Epoch 29/150\n",
            "35/35 [==============================] - 0s 3ms/step - loss: 0.4130 - accuracy: 0.8023 - val_loss: 0.4779 - val_accuracy: 0.7647\n",
            "Epoch 30/150\n",
            "35/35 [==============================] - 0s 3ms/step - loss: 0.4124 - accuracy: 0.8023 - val_loss: 0.4757 - val_accuracy: 0.7588\n",
            "Epoch 31/150\n",
            "35/35 [==============================] - 0s 2ms/step - loss: 0.4124 - accuracy: 0.8023 - val_loss: 0.4767 - val_accuracy: 0.7706\n",
            "Epoch 32/150\n",
            "35/35 [==============================] - 0s 3ms/step - loss: 0.4107 - accuracy: 0.8052 - val_loss: 0.4768 - val_accuracy: 0.7647\n",
            "Epoch 33/150\n",
            "35/35 [==============================] - 0s 3ms/step - loss: 0.4100 - accuracy: 0.7907 - val_loss: 0.4767 - val_accuracy: 0.7588\n",
            "Epoch 34/150\n",
            "35/35 [==============================] - 0s 3ms/step - loss: 0.4085 - accuracy: 0.7965 - val_loss: 0.4755 - val_accuracy: 0.7706\n",
            "Epoch 35/150\n",
            "35/35 [==============================] - 0s 3ms/step - loss: 0.4092 - accuracy: 0.7965 - val_loss: 0.4751 - val_accuracy: 0.7588\n",
            "Epoch 36/150\n",
            "35/35 [==============================] - 0s 3ms/step - loss: 0.4071 - accuracy: 0.7936 - val_loss: 0.4773 - val_accuracy: 0.7588\n",
            "Epoch 37/150\n",
            "35/35 [==============================] - 0s 3ms/step - loss: 0.4062 - accuracy: 0.7965 - val_loss: 0.4767 - val_accuracy: 0.7588\n",
            "Epoch 38/150\n",
            "35/35 [==============================] - 0s 4ms/step - loss: 0.4058 - accuracy: 0.8023 - val_loss: 0.4750 - val_accuracy: 0.7588\n",
            "Epoch 39/150\n",
            "35/35 [==============================] - 0s 2ms/step - loss: 0.4044 - accuracy: 0.8052 - val_loss: 0.4754 - val_accuracy: 0.7647\n",
            "Epoch 40/150\n",
            "35/35 [==============================] - 0s 3ms/step - loss: 0.4041 - accuracy: 0.8081 - val_loss: 0.4772 - val_accuracy: 0.7588\n",
            "Epoch 41/150\n",
            "35/35 [==============================] - 0s 3ms/step - loss: 0.4047 - accuracy: 0.8023 - val_loss: 0.4755 - val_accuracy: 0.7647\n",
            "Epoch 42/150\n",
            "35/35 [==============================] - 0s 2ms/step - loss: 0.4043 - accuracy: 0.8023 - val_loss: 0.4781 - val_accuracy: 0.7588\n",
            "Epoch 43/150\n",
            "35/35 [==============================] - 0s 2ms/step - loss: 0.4026 - accuracy: 0.8110 - val_loss: 0.4761 - val_accuracy: 0.7647\n",
            "Epoch 44/150\n",
            "35/35 [==============================] - 0s 5ms/step - loss: 0.4022 - accuracy: 0.8081 - val_loss: 0.4757 - val_accuracy: 0.7588\n",
            "Epoch 45/150\n",
            "35/35 [==============================] - 0s 3ms/step - loss: 0.4012 - accuracy: 0.8081 - val_loss: 0.4770 - val_accuracy: 0.7647\n",
            "Epoch 46/150\n",
            "35/35 [==============================] - 0s 3ms/step - loss: 0.4011 - accuracy: 0.8110 - val_loss: 0.4770 - val_accuracy: 0.7647\n",
            "Epoch 47/150\n",
            "35/35 [==============================] - 0s 3ms/step - loss: 0.4013 - accuracy: 0.8081 - val_loss: 0.4770 - val_accuracy: 0.7647\n",
            "Epoch 48/150\n",
            "35/35 [==============================] - 0s 3ms/step - loss: 0.4004 - accuracy: 0.8052 - val_loss: 0.4768 - val_accuracy: 0.7588\n",
            "Epoch 49/150\n",
            "35/35 [==============================] - 0s 4ms/step - loss: 0.3998 - accuracy: 0.8110 - val_loss: 0.4782 - val_accuracy: 0.7647\n",
            "Epoch 50/150\n",
            "35/35 [==============================] - 0s 3ms/step - loss: 0.4006 - accuracy: 0.7994 - val_loss: 0.4773 - val_accuracy: 0.7588\n",
            "Epoch 51/150\n",
            "35/35 [==============================] - 0s 3ms/step - loss: 0.3988 - accuracy: 0.8052 - val_loss: 0.4768 - val_accuracy: 0.7647\n",
            "Epoch 52/150\n",
            "35/35 [==============================] - 0s 3ms/step - loss: 0.3992 - accuracy: 0.8081 - val_loss: 0.4780 - val_accuracy: 0.7647\n",
            "Epoch 53/150\n",
            "35/35 [==============================] - 0s 3ms/step - loss: 0.3987 - accuracy: 0.8081 - val_loss: 0.4758 - val_accuracy: 0.7706\n",
            "Epoch 54/150\n",
            "35/35 [==============================] - 0s 3ms/step - loss: 0.3983 - accuracy: 0.8081 - val_loss: 0.4773 - val_accuracy: 0.7647\n",
            "Epoch 55/150\n",
            "35/35 [==============================] - 0s 3ms/step - loss: 0.3992 - accuracy: 0.8052 - val_loss: 0.4776 - val_accuracy: 0.7706\n",
            "Epoch 56/150\n",
            "35/35 [==============================] - 0s 3ms/step - loss: 0.3969 - accuracy: 0.8110 - val_loss: 0.4767 - val_accuracy: 0.7588\n",
            "Epoch 57/150\n",
            "35/35 [==============================] - 0s 3ms/step - loss: 0.3975 - accuracy: 0.8140 - val_loss: 0.4768 - val_accuracy: 0.7647\n",
            "Epoch 58/150\n",
            "35/35 [==============================] - 0s 3ms/step - loss: 0.3966 - accuracy: 0.8140 - val_loss: 0.4785 - val_accuracy: 0.7647\n",
            "Epoch 59/150\n",
            "35/35 [==============================] - 0s 3ms/step - loss: 0.3961 - accuracy: 0.8169 - val_loss: 0.4777 - val_accuracy: 0.7706\n",
            "Epoch 60/150\n",
            "35/35 [==============================] - 0s 2ms/step - loss: 0.3967 - accuracy: 0.8140 - val_loss: 0.4780 - val_accuracy: 0.7706\n",
            "Epoch 61/150\n",
            "35/35 [==============================] - 0s 3ms/step - loss: 0.3956 - accuracy: 0.8081 - val_loss: 0.4790 - val_accuracy: 0.7647\n",
            "Epoch 62/150\n",
            "35/35 [==============================] - 0s 3ms/step - loss: 0.3956 - accuracy: 0.8052 - val_loss: 0.4808 - val_accuracy: 0.7706\n",
            "Epoch 63/150\n",
            "35/35 [==============================] - 0s 3ms/step - loss: 0.3951 - accuracy: 0.8081 - val_loss: 0.4784 - val_accuracy: 0.7647\n",
            "Epoch 64/150\n",
            "35/35 [==============================] - 0s 3ms/step - loss: 0.3948 - accuracy: 0.8110 - val_loss: 0.4793 - val_accuracy: 0.7706\n",
            "Epoch 65/150\n",
            "35/35 [==============================] - 0s 3ms/step - loss: 0.3941 - accuracy: 0.8169 - val_loss: 0.4784 - val_accuracy: 0.7706\n",
            "Epoch 66/150\n",
            "35/35 [==============================] - 0s 3ms/step - loss: 0.3946 - accuracy: 0.8169 - val_loss: 0.4796 - val_accuracy: 0.7706\n",
            "Epoch 67/150\n",
            "35/35 [==============================] - 0s 4ms/step - loss: 0.3937 - accuracy: 0.8169 - val_loss: 0.4798 - val_accuracy: 0.7706\n",
            "Epoch 68/150\n",
            "35/35 [==============================] - 0s 3ms/step - loss: 0.3932 - accuracy: 0.8140 - val_loss: 0.4808 - val_accuracy: 0.7706\n",
            "Epoch 69/150\n",
            "35/35 [==============================] - 0s 3ms/step - loss: 0.3922 - accuracy: 0.8140 - val_loss: 0.4804 - val_accuracy: 0.7706\n",
            "Epoch 70/150\n",
            "35/35 [==============================] - 0s 2ms/step - loss: 0.3927 - accuracy: 0.8198 - val_loss: 0.4799 - val_accuracy: 0.7706\n",
            "Epoch 71/150\n",
            "35/35 [==============================] - 0s 4ms/step - loss: 0.3918 - accuracy: 0.8169 - val_loss: 0.4815 - val_accuracy: 0.7706\n",
            "Epoch 72/150\n",
            "35/35 [==============================] - 0s 3ms/step - loss: 0.3922 - accuracy: 0.8110 - val_loss: 0.4815 - val_accuracy: 0.7706\n",
            "Epoch 73/150\n",
            "35/35 [==============================] - 0s 3ms/step - loss: 0.3920 - accuracy: 0.8198 - val_loss: 0.4810 - val_accuracy: 0.7706\n",
            "Epoch 74/150\n",
            "35/35 [==============================] - 0s 3ms/step - loss: 0.3905 - accuracy: 0.8110 - val_loss: 0.4818 - val_accuracy: 0.7706\n",
            "Epoch 75/150\n",
            "35/35 [==============================] - 0s 2ms/step - loss: 0.3912 - accuracy: 0.8169 - val_loss: 0.4806 - val_accuracy: 0.7706\n",
            "Epoch 76/150\n",
            "35/35 [==============================] - 0s 3ms/step - loss: 0.3901 - accuracy: 0.8169 - val_loss: 0.4812 - val_accuracy: 0.7706\n",
            "Epoch 77/150\n",
            "35/35 [==============================] - 0s 3ms/step - loss: 0.3903 - accuracy: 0.8140 - val_loss: 0.4806 - val_accuracy: 0.7706\n",
            "Epoch 78/150\n",
            "35/35 [==============================] - 0s 3ms/step - loss: 0.3909 - accuracy: 0.8169 - val_loss: 0.4823 - val_accuracy: 0.7706\n",
            "Epoch 79/150\n",
            "35/35 [==============================] - 0s 3ms/step - loss: 0.3897 - accuracy: 0.8169 - val_loss: 0.4808 - val_accuracy: 0.7706\n",
            "Epoch 80/150\n",
            "35/35 [==============================] - 0s 3ms/step - loss: 0.3888 - accuracy: 0.8169 - val_loss: 0.4817 - val_accuracy: 0.7706\n",
            "Epoch 81/150\n",
            "35/35 [==============================] - 0s 2ms/step - loss: 0.3892 - accuracy: 0.8140 - val_loss: 0.4822 - val_accuracy: 0.7706\n",
            "Epoch 82/150\n",
            "35/35 [==============================] - 0s 2ms/step - loss: 0.3883 - accuracy: 0.8169 - val_loss: 0.4828 - val_accuracy: 0.7706\n",
            "Epoch 83/150\n",
            "35/35 [==============================] - 0s 3ms/step - loss: 0.3888 - accuracy: 0.8169 - val_loss: 0.4817 - val_accuracy: 0.7706\n",
            "Epoch 84/150\n",
            "35/35 [==============================] - 0s 3ms/step - loss: 0.3876 - accuracy: 0.8198 - val_loss: 0.4838 - val_accuracy: 0.7706\n",
            "Epoch 85/150\n",
            "35/35 [==============================] - 0s 3ms/step - loss: 0.3879 - accuracy: 0.8198 - val_loss: 0.4819 - val_accuracy: 0.7706\n",
            "Epoch 86/150\n",
            "35/35 [==============================] - 0s 2ms/step - loss: 0.3872 - accuracy: 0.8198 - val_loss: 0.4844 - val_accuracy: 0.7706\n",
            "Epoch 87/150\n",
            "35/35 [==============================] - 0s 3ms/step - loss: 0.3878 - accuracy: 0.8169 - val_loss: 0.4824 - val_accuracy: 0.7706\n",
            "Epoch 88/150\n",
            "35/35 [==============================] - 0s 3ms/step - loss: 0.3868 - accuracy: 0.8198 - val_loss: 0.4844 - val_accuracy: 0.7706\n",
            "Epoch 89/150\n",
            "35/35 [==============================] - 0s 2ms/step - loss: 0.3856 - accuracy: 0.8169 - val_loss: 0.4803 - val_accuracy: 0.7706\n",
            "Epoch 90/150\n",
            "35/35 [==============================] - 0s 2ms/step - loss: 0.3864 - accuracy: 0.8198 - val_loss: 0.4814 - val_accuracy: 0.7706\n",
            "Epoch 91/150\n",
            "35/35 [==============================] - 0s 3ms/step - loss: 0.3862 - accuracy: 0.8227 - val_loss: 0.4825 - val_accuracy: 0.7647\n",
            "Epoch 92/150\n",
            "35/35 [==============================] - 0s 3ms/step - loss: 0.3856 - accuracy: 0.8198 - val_loss: 0.4818 - val_accuracy: 0.7647\n",
            "Epoch 93/150\n",
            "35/35 [==============================] - 0s 3ms/step - loss: 0.3845 - accuracy: 0.8198 - val_loss: 0.4829 - val_accuracy: 0.7647\n",
            "Epoch 94/150\n",
            "35/35 [==============================] - 0s 2ms/step - loss: 0.3859 - accuracy: 0.8198 - val_loss: 0.4837 - val_accuracy: 0.7647\n",
            "Epoch 95/150\n",
            "35/35 [==============================] - 0s 3ms/step - loss: 0.3841 - accuracy: 0.8169 - val_loss: 0.4836 - val_accuracy: 0.7647\n",
            "Epoch 96/150\n",
            "35/35 [==============================] - 0s 3ms/step - loss: 0.3844 - accuracy: 0.8256 - val_loss: 0.4844 - val_accuracy: 0.7647\n",
            "Epoch 97/150\n",
            "35/35 [==============================] - 0s 3ms/step - loss: 0.3843 - accuracy: 0.8198 - val_loss: 0.4839 - val_accuracy: 0.7647\n",
            "Epoch 98/150\n",
            "35/35 [==============================] - 0s 3ms/step - loss: 0.3847 - accuracy: 0.8140 - val_loss: 0.4846 - val_accuracy: 0.7647\n",
            "Epoch 99/150\n",
            "35/35 [==============================] - 0s 3ms/step - loss: 0.3836 - accuracy: 0.8169 - val_loss: 0.4831 - val_accuracy: 0.7588\n",
            "Epoch 100/150\n",
            "35/35 [==============================] - 0s 3ms/step - loss: 0.3834 - accuracy: 0.8169 - val_loss: 0.4845 - val_accuracy: 0.7647\n",
            "Epoch 101/150\n",
            "35/35 [==============================] - 0s 3ms/step - loss: 0.3828 - accuracy: 0.8169 - val_loss: 0.4830 - val_accuracy: 0.7647\n",
            "Epoch 102/150\n",
            "35/35 [==============================] - 0s 2ms/step - loss: 0.3817 - accuracy: 0.8198 - val_loss: 0.4838 - val_accuracy: 0.7647\n",
            "Epoch 103/150\n",
            "35/35 [==============================] - 0s 3ms/step - loss: 0.3815 - accuracy: 0.8198 - val_loss: 0.4855 - val_accuracy: 0.7647\n",
            "Epoch 104/150\n",
            "35/35 [==============================] - 0s 3ms/step - loss: 0.3828 - accuracy: 0.8110 - val_loss: 0.4873 - val_accuracy: 0.7647\n",
            "Epoch 105/150\n",
            "35/35 [==============================] - 0s 3ms/step - loss: 0.3811 - accuracy: 0.8169 - val_loss: 0.4847 - val_accuracy: 0.7647\n",
            "Epoch 106/150\n",
            "35/35 [==============================] - 0s 4ms/step - loss: 0.3807 - accuracy: 0.8198 - val_loss: 0.4885 - val_accuracy: 0.7647\n",
            "Epoch 107/150\n",
            "35/35 [==============================] - 0s 3ms/step - loss: 0.3813 - accuracy: 0.8169 - val_loss: 0.4902 - val_accuracy: 0.7647\n",
            "Epoch 108/150\n",
            "35/35 [==============================] - 0s 3ms/step - loss: 0.3828 - accuracy: 0.8227 - val_loss: 0.4877 - val_accuracy: 0.7588\n",
            "Epoch 109/150\n",
            "35/35 [==============================] - 0s 3ms/step - loss: 0.3802 - accuracy: 0.8227 - val_loss: 0.4876 - val_accuracy: 0.7647\n",
            "Epoch 110/150\n",
            "35/35 [==============================] - 0s 3ms/step - loss: 0.3809 - accuracy: 0.8198 - val_loss: 0.4871 - val_accuracy: 0.7647\n",
            "Epoch 111/150\n",
            "35/35 [==============================] - 0s 3ms/step - loss: 0.3792 - accuracy: 0.8140 - val_loss: 0.4882 - val_accuracy: 0.7647\n",
            "Epoch 112/150\n",
            "35/35 [==============================] - 0s 2ms/step - loss: 0.3787 - accuracy: 0.8198 - val_loss: 0.4892 - val_accuracy: 0.7647\n",
            "Epoch 113/150\n",
            "35/35 [==============================] - 0s 3ms/step - loss: 0.3780 - accuracy: 0.8169 - val_loss: 0.4883 - val_accuracy: 0.7647\n",
            "Epoch 114/150\n",
            "35/35 [==============================] - 0s 3ms/step - loss: 0.3785 - accuracy: 0.8198 - val_loss: 0.4893 - val_accuracy: 0.7647\n",
            "Epoch 115/150\n",
            "35/35 [==============================] - 0s 3ms/step - loss: 0.3781 - accuracy: 0.8140 - val_loss: 0.4892 - val_accuracy: 0.7647\n",
            "Epoch 116/150\n",
            "35/35 [==============================] - 0s 3ms/step - loss: 0.3781 - accuracy: 0.8140 - val_loss: 0.4905 - val_accuracy: 0.7647\n",
            "Epoch 117/150\n",
            "35/35 [==============================] - 0s 3ms/step - loss: 0.3777 - accuracy: 0.8140 - val_loss: 0.4900 - val_accuracy: 0.7647\n",
            "Epoch 118/150\n",
            "35/35 [==============================] - 0s 3ms/step - loss: 0.3776 - accuracy: 0.8140 - val_loss: 0.4904 - val_accuracy: 0.7588\n",
            "Epoch 119/150\n",
            "35/35 [==============================] - 0s 3ms/step - loss: 0.3774 - accuracy: 0.8140 - val_loss: 0.4895 - val_accuracy: 0.7647\n",
            "Epoch 120/150\n",
            "35/35 [==============================] - 0s 3ms/step - loss: 0.3757 - accuracy: 0.8169 - val_loss: 0.4912 - val_accuracy: 0.7647\n",
            "Epoch 121/150\n",
            "35/35 [==============================] - 0s 2ms/step - loss: 0.3775 - accuracy: 0.8140 - val_loss: 0.4901 - val_accuracy: 0.7588\n",
            "Epoch 122/150\n",
            "35/35 [==============================] - 0s 2ms/step - loss: 0.3763 - accuracy: 0.8169 - val_loss: 0.4905 - val_accuracy: 0.7647\n",
            "Epoch 123/150\n",
            "35/35 [==============================] - 0s 3ms/step - loss: 0.3756 - accuracy: 0.8140 - val_loss: 0.4916 - val_accuracy: 0.7647\n",
            "Epoch 124/150\n",
            "35/35 [==============================] - 0s 2ms/step - loss: 0.3761 - accuracy: 0.8140 - val_loss: 0.4914 - val_accuracy: 0.7588\n",
            "Epoch 125/150\n",
            "35/35 [==============================] - 0s 3ms/step - loss: 0.3753 - accuracy: 0.8198 - val_loss: 0.4910 - val_accuracy: 0.7647\n",
            "Epoch 126/150\n",
            "35/35 [==============================] - 0s 4ms/step - loss: 0.3743 - accuracy: 0.8227 - val_loss: 0.4938 - val_accuracy: 0.7647\n",
            "Epoch 127/150\n",
            "35/35 [==============================] - 0s 3ms/step - loss: 0.3745 - accuracy: 0.8227 - val_loss: 0.4914 - val_accuracy: 0.7647\n",
            "Epoch 128/150\n",
            "35/35 [==============================] - 0s 3ms/step - loss: 0.3741 - accuracy: 0.8256 - val_loss: 0.4945 - val_accuracy: 0.7647\n",
            "Epoch 129/150\n",
            "35/35 [==============================] - 0s 3ms/step - loss: 0.3741 - accuracy: 0.8198 - val_loss: 0.4932 - val_accuracy: 0.7588\n",
            "Epoch 130/150\n",
            "35/35 [==============================] - 0s 3ms/step - loss: 0.3733 - accuracy: 0.8227 - val_loss: 0.4928 - val_accuracy: 0.7588\n",
            "Epoch 131/150\n",
            "35/35 [==============================] - 0s 4ms/step - loss: 0.3730 - accuracy: 0.8227 - val_loss: 0.4917 - val_accuracy: 0.7588\n",
            "Epoch 132/150\n",
            "35/35 [==============================] - 0s 3ms/step - loss: 0.3737 - accuracy: 0.8198 - val_loss: 0.4951 - val_accuracy: 0.7647\n",
            "Epoch 133/150\n",
            "35/35 [==============================] - 0s 2ms/step - loss: 0.3723 - accuracy: 0.8227 - val_loss: 0.4945 - val_accuracy: 0.7588\n",
            "Epoch 134/150\n",
            "35/35 [==============================] - 0s 3ms/step - loss: 0.3734 - accuracy: 0.8198 - val_loss: 0.4944 - val_accuracy: 0.7647\n",
            "Epoch 135/150\n",
            "35/35 [==============================] - 0s 3ms/step - loss: 0.3722 - accuracy: 0.8169 - val_loss: 0.4917 - val_accuracy: 0.7588\n",
            "Epoch 136/150\n",
            "35/35 [==============================] - 0s 3ms/step - loss: 0.3726 - accuracy: 0.8169 - val_loss: 0.4918 - val_accuracy: 0.7588\n",
            "Epoch 137/150\n",
            "35/35 [==============================] - 0s 3ms/step - loss: 0.3741 - accuracy: 0.8198 - val_loss: 0.4935 - val_accuracy: 0.7588\n",
            "Epoch 138/150\n",
            "35/35 [==============================] - 0s 2ms/step - loss: 0.3714 - accuracy: 0.8256 - val_loss: 0.4904 - val_accuracy: 0.7588\n",
            "Epoch 139/150\n",
            "35/35 [==============================] - 0s 3ms/step - loss: 0.3704 - accuracy: 0.8227 - val_loss: 0.4927 - val_accuracy: 0.7588\n",
            "Epoch 140/150\n",
            "35/35 [==============================] - 0s 4ms/step - loss: 0.3712 - accuracy: 0.8169 - val_loss: 0.4941 - val_accuracy: 0.7647\n",
            "Epoch 141/150\n",
            "35/35 [==============================] - 0s 3ms/step - loss: 0.3711 - accuracy: 0.8227 - val_loss: 0.4914 - val_accuracy: 0.7588\n",
            "Epoch 142/150\n",
            "35/35 [==============================] - 0s 3ms/step - loss: 0.3692 - accuracy: 0.8256 - val_loss: 0.4931 - val_accuracy: 0.7588\n",
            "Epoch 143/150\n",
            "35/35 [==============================] - 0s 3ms/step - loss: 0.3696 - accuracy: 0.8227 - val_loss: 0.4938 - val_accuracy: 0.7588\n",
            "Epoch 144/150\n",
            "35/35 [==============================] - 0s 3ms/step - loss: 0.3697 - accuracy: 0.8285 - val_loss: 0.4925 - val_accuracy: 0.7647\n",
            "Epoch 145/150\n",
            "35/35 [==============================] - 0s 3ms/step - loss: 0.3694 - accuracy: 0.8198 - val_loss: 0.4928 - val_accuracy: 0.7588\n",
            "Epoch 146/150\n",
            "35/35 [==============================] - 0s 3ms/step - loss: 0.3682 - accuracy: 0.8256 - val_loss: 0.4945 - val_accuracy: 0.7706\n",
            "Epoch 147/150\n",
            "35/35 [==============================] - 0s 3ms/step - loss: 0.3689 - accuracy: 0.8256 - val_loss: 0.4934 - val_accuracy: 0.7588\n",
            "Epoch 148/150\n",
            "35/35 [==============================] - 0s 3ms/step - loss: 0.3692 - accuracy: 0.8227 - val_loss: 0.4944 - val_accuracy: 0.7647\n",
            "Epoch 149/150\n",
            "35/35 [==============================] - 0s 3ms/step - loss: 0.3686 - accuracy: 0.8256 - val_loss: 0.4913 - val_accuracy: 0.7588\n",
            "Epoch 150/150\n",
            "35/35 [==============================] - 0s 3ms/step - loss: 0.3689 - accuracy: 0.8169 - val_loss: 0.4938 - val_accuracy: 0.7647\n"
          ]
        }
      ],
      "source": [
        "#Fit the keras model on the dataset\n",
        "history = model.fit(X_train, y_train, validation_split=0.33, epochs=150, batch_size=10)\n",
        "#The history variable, contains info regarding our module for each epoch."
      ]
    },
    {
      "cell_type": "markdown",
      "source": [
        "## 5. Evaluate Model"
      ],
      "metadata": {
        "id": "Y3D5dIdUj5Gk"
      }
    },
    {
      "cell_type": "code",
      "execution_count": 12,
      "metadata": {
        "id": "Knb_2q_3bR_p",
        "outputId": "d9bfe2bd-60d4-467a-a27b-8e2d063c6ac8",
        "colab": {
          "base_uri": "https://localhost:8080/"
        }
      },
      "outputs": [
        {
          "output_type": "stream",
          "name": "stdout",
          "text": [
            "17/17 [==============================] - 0s 2ms/step - loss: 0.4072 - accuracy: 0.8054\n",
            "Accuracy: 80.54\n"
          ]
        }
      ],
      "source": [
        "_, accuracy = model.evaluate(X_train, y_train)\n",
        "print('Accuracy: %.2f' % (accuracy*100))"
      ]
    },
    {
      "cell_type": "markdown",
      "source": [
        "## 6. Prediction"
      ],
      "metadata": {
        "id": "nILxIk5jkDvp"
      }
    },
    {
      "cell_type": "code",
      "execution_count": 13,
      "metadata": {
        "id": "dfsNATWRbR_q",
        "outputId": "1890de0a-a68c-4fee-f80e-233c84d05eec",
        "colab": {
          "base_uri": "https://localhost:8080/"
        }
      },
      "outputs": [
        {
          "output_type": "stream",
          "name": "stdout",
          "text": [
            "[0.6399472601593618, -0.7165334717264664, -0.5741277459136239, 0.7818138030884967, 0.956859653030945, 0.2547804694892943, -0.1264714020604746, 0.8303811324799336] => 0 (expected 1)\n",
            "[-0.5479185907225473, -0.2783734371474431, 0.30473400231574344, 0.7190857419965655, -0.6928905722954664, 0.47054318659717476, -0.9781448690748636, -1.0415494364835027] => 0 (expected 0)\n",
            "[-0.5479185907225473, -0.4035620184557355, -0.2639412465385531, -1.2882122129452327, -0.6928905722954664, -0.1513611156549505, -0.9479436823013037, -1.0415494364835027] => 0 (expected 1)\n",
            "[1.233880185600316, -0.4348591637828086, 0.5632227517949692, -1.2882122129452327, -0.6928905722954664, -0.9382604368719248, 1.1600991544931767, 0.06459135426761878] => 0 (expected 0)\n",
            "[0.9369137228798391, 0.4727580507023112, 1.0802002507534205, -1.2882122129452327, -0.6928905722954664, -0.26558843647676966, -0.7908975110787921, 1.4259954044228451] => 0 (expected 1)\n"
          ]
        }
      ],
      "source": [
        "#Determines Whether a person is likely to be diabetic.\n",
        "predictions = np.argmax(model.predict(X_test), axis=-1)\n",
        "\n",
        "#Doing so for the first N variables\n",
        "n = 5\n",
        "for i in range(n):\n",
        "    print('%s => %d (expected %d)' % (X_test[i].tolist(), predictions[i], y[i]))"
      ]
    },
    {
      "cell_type": "code",
      "execution_count": 14,
      "metadata": {
        "colab": {
          "base_uri": "https://localhost:8080/"
        },
        "id": "ID7E3r8MbR_q",
        "outputId": "8f15caef-a815-43c4-f330-fc82e316b02c"
      },
      "outputs": [
        {
          "output_type": "execute_result",
          "data": {
            "text/plain": [
              "0.7322834645669292"
            ]
          },
          "metadata": {},
          "execution_count": 14
        }
      ],
      "source": [
        "y_pred = model.predict(X_test)\n",
        "\n",
        "y_pred = np.argmax(y_pred, axis=1) \n",
        "\n",
        "accuracy_score(y_test, y_pred)"
      ]
    },
    {
      "cell_type": "code",
      "execution_count": 15,
      "metadata": {
        "colab": {
          "base_uri": "https://localhost:8080/"
        },
        "id": "OWkjhNxrbR_r",
        "outputId": "e64d7bcd-d25d-4948-e5f6-85bbe36a5441"
      },
      "outputs": [
        {
          "output_type": "stream",
          "name": "stdout",
          "text": [
            "['loss', 'accuracy']\n"
          ]
        }
      ],
      "source": [
        "print(model.metrics_names)"
      ]
    },
    {
      "cell_type": "markdown",
      "metadata": {
        "id": "P043hUHGbR_r"
      },
      "source": [
        "One of the default callbacks that is registered when training all deep learning models is the History callback. It records training metrics for each epoch. This includes the loss and the accuracy (for classification problems) as well as the loss and accuracy for the validation dataset, if one is set.\n",
        "\n",
        "The history object is returned from calls to the fit() function used to train the model. Metrics are stored in a dictionary in the history member of the object returned."
      ]
    },
    {
      "cell_type": "code",
      "execution_count": 16,
      "metadata": {
        "colab": {
          "base_uri": "https://localhost:8080/"
        },
        "id": "ujGJ-SlXbR_r",
        "outputId": "5891e7ba-c70d-4b8f-8ec9-c235ccf983a8"
      },
      "outputs": [
        {
          "output_type": "stream",
          "name": "stdout",
          "text": [
            "dict_keys(['loss', 'accuracy', 'val_loss', 'val_accuracy'])\n"
          ]
        }
      ],
      "source": [
        "print(history.history.keys())"
      ]
    },
    {
      "cell_type": "markdown",
      "metadata": {
        "id": "rTi-RwTObR_s"
      },
      "source": [
        "## 7. Plot against loss and accuracy\n",
        "\n",
        "The plots can provide an indication of useful things about the training of the model, such as:\n",
        "\n",
        "- It’s speed of convergence over epochs (slope).\n",
        "- Whether the model may have already converged (plateau of the line).\n",
        "- Whether the mode may be over-learning the training data (inflection for validation line)."
      ]
    },
    {
      "cell_type": "code",
      "execution_count": 17,
      "metadata": {
        "colab": {
          "base_uri": "https://localhost:8080/",
          "height": 295
        },
        "id": "FUKtsIBLbR_t",
        "outputId": "83692003-64b8-4618-ffd1-31738b217f47"
      },
      "outputs": [
        {
          "output_type": "display_data",
          "data": {
            "text/plain": [
              "<Figure size 432x288 with 1 Axes>"
            ],
            "image/png": "[encoded data removed]"
          },
          "metadata": {
            "needs_background": "light"
          }
        }
      ],
      "source": [
        "#Summarize history for loss\n",
        "plt.plot(history.history['loss'])\n",
        "plt.plot(history.history['val_loss'])\n",
        "plt.title('model loss')\n",
        "plt.ylabel('loss')\n",
        "plt.xlabel('epoch')\n",
        "plt.legend(['train', 'test'], loc='upper left')\n",
        "plt.show()"
      ]
    },
    {
      "cell_type": "code",
      "execution_count": 18,
      "metadata": {
        "colab": {
          "base_uri": "https://localhost:8080/",
          "height": 295
        },
        "id": "KGkmh3DubR_t",
        "outputId": "e2804627-0e72-4927-ba30-c2f41ba2bf20"
      },
      "outputs": [
        {
          "output_type": "display_data",
          "data": {
            "text/plain": [
              "<Figure size 432x288 with 1 Axes>"
            ],
            "image/png": "[encoded data removed]"
          },
          "metadata": {
            "needs_background": "light"
          }
        }
      ],
      "source": [
        "#Summarize history for accuracy\n",
        "plt.plot(history.history['accuracy'])\n",
        "plt.plot(history.history['val_accuracy'])\n",
        "plt.title('model accuracy')\n",
        "plt.ylabel('accuracy')\n",
        "plt.xlabel('epoch')\n",
        "plt.legend(['train', 'test'], loc='upper left')\n",
        "plt.show()"
      ]
    }
  ]
}