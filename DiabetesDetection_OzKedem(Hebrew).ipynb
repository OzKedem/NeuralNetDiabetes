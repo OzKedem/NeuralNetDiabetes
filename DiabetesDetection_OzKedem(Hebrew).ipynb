{
  "nbformat": 4,
  "nbformat_minor": 0,
  "metadata": {
    "colab": {
      "name": "DiabetesDetection_OzKedem(Hebrew).ipynb",
      "provenance": [],
      "authorship_tag": "ABX9TyPeiIwzprJwSs8Xgc/uPyDV",
      "include_colab_link": true
    },
    "kernelspec": {
      "name": "python3",
      "display_name": "Python 3"
    },
    "language_info": {
      "name": "python"
    }
  },
  "cells": [
    {
      "cell_type": "markdown",
      "metadata": {
        "id": "view-in-github",
        "colab_type": "text"
      },
      "source": [
        "<a href=\"https://colab.research.google.com/github/OzKedem/NeuralNetDiabetes/blob/master/DiabetesDetection_OzKedem(Hebrew).ipynb\" target=\"_parent\"><img src=\"https://colab.research.google.com/assets/colab-badge.svg\" alt=\"Open In Colab\"/></a>"
      ]
    },
    {
      "cell_type": "markdown",
      "source": [
        "# פרויקט למידה עמוקה - עוז קדם - חיזוי מחלת הסוכרת "
      ],
      "metadata": {
        "id": "0ueFqiyQNedI"
      }
    },
    {
      "cell_type": "markdown",
      "source": [
        "עבודה זו עליה אני עובד במסגרת פרויקט 5 יחידות במקצוע מדעי המחשב מנסה ליצור רשת נוירונים אשר מסוגלת לחזות במהירות ודיוק גבוה ככל שניתן האם אדם חולה בסוכרת סוג 2\n",
        "\n",
        "מידע נוסף על העבודה ניתן למצוא פה: \n",
        "https://github.com/OzKedem/NeuralNetDiabetes"
      ],
      "metadata": {
        "id": "9kCNIPYUMz1-"
      }
    },
    {
      "cell_type": "markdown",
      "source": [
        "## ייבוא הספריות הנחוצות לנו"
      ],
      "metadata": {
        "id": "7cpws7XcOBYr"
      }
    },
    {
      "cell_type": "code",
      "execution_count": 31,
      "metadata": {
        "id": "yu4RXgK9INGx"
      },
      "outputs": [],
      "source": [
        "#ראשית , ניבא את הספריות הנחוצות לנו \n",
        "from numpy import loadtxt\n",
        "from keras.models import Sequential\n",
        "from keras.layers import Dense\n",
        "from keras.utils import np_utils\n",
        "import pandas as pd\n",
        "import numpy as np\n",
        "import matplotlib.pyplot as plt\n",
        "from sklearn.preprocessing import scale\n",
        "from sklearn.metrics import accuracy_score\n",
        "from sklearn.model_selection import train_test_split"
      ]
    },
    {
      "cell_type": "code",
      "source": [
        "df = pd.read_csv('/content/pima-indians-diabetes.csv', header=None)\n",
        "df.head()\n",
        "df.columns = ['Pregnancies', 'Glucose', 'BloodPressure', 'SkinThickness', 'Insulin',  \n",
        "         'BMI', 'DiabetesPedigreeFunction', 'Age', 'Class']\n",
        "df.head()"
      ],
      "metadata": {
        "colab": {
          "base_uri": "https://localhost:8080/",
          "height": 206
        },
        "id": "sSLCEIs7b4m4",
        "outputId": "cbd70c44-9f7a-4208-fed4-19d8210d8b3e"
      },
      "execution_count": 32,
      "outputs": [
        {
          "output_type": "execute_result",
          "data": {
            "text/plain": [
              "   Pregnancies  Glucose  BloodPressure  SkinThickness  Insulin   BMI  \\\n",
              "0            6      148             72             35        0  33.6   \n",
              "1            1       85             66             29        0  26.6   \n",
              "2            8      183             64              0        0  23.3   \n",
              "3            1       89             66             23       94  28.1   \n",
              "4            0      137             40             35      168  43.1   \n",
              "\n",
              "   DiabetesPedigreeFunction  Age  Class  \n",
              "0                     0.627   50      1  \n",
              "1                     0.351   31      0  \n",
              "2                     0.672   32      1  \n",
              "3                     0.167   21      0  \n",
              "4                     2.288   33      1  "
            ],
            "text/html": [
              "\n",
              "  <div id=\"df-fe0977b5-3267-4637-ae37-974282ba41ba\">\n",
              "    <div class=\"colab-df-container\">\n",
              "      <div>\n",
              "<style scoped>\n",
              "    .dataframe tbody tr th:only-of-type {\n",
              "        vertical-align: middle;\n",
              "    }\n",
              "\n",
              "    .dataframe tbody tr th {\n",
              "        vertical-align: top;\n",
              "    }\n",
              "\n",
              "    .dataframe thead th {\n",
              "        text-align: right;\n",
              "    }\n",
              "</style>\n",
              "<table border=\"1\" class=\"dataframe\">\n",
              "  <thead>\n",
              "    <tr style=\"text-align: right;\">\n",
              "      <th></th>\n",
              "      <th>Pregnancies</th>\n",
              "      <th>Glucose</th>\n",
              "      <th>BloodPressure</th>\n",
              "      <th>SkinThickness</th>\n",
              "      <th>Insulin</th>\n",
              "      <th>BMI</th>\n",
              "      <th>DiabetesPedigreeFunction</th>\n",
              "      <th>Age</th>\n",
              "      <th>Class</th>\n",
              "    </tr>\n",
              "  </thead>\n",
              "  <tbody>\n",
              "    <tr>\n",
              "      <th>0</th>\n",
              "      <td>6</td>\n",
              "      <td>148</td>\n",
              "      <td>72</td>\n",
              "      <td>35</td>\n",
              "      <td>0</td>\n",
              "      <td>33.6</td>\n",
              "      <td>0.627</td>\n",
              "      <td>50</td>\n",
              "      <td>1</td>\n",
              "    </tr>\n",
              "    <tr>\n",
              "      <th>1</th>\n",
              "      <td>1</td>\n",
              "      <td>85</td>\n",
              "      <td>66</td>\n",
              "      <td>29</td>\n",
              "      <td>0</td>\n",
              "      <td>26.6</td>\n",
              "      <td>0.351</td>\n",
              "      <td>31</td>\n",
              "      <td>0</td>\n",
              "    </tr>\n",
              "    <tr>\n",
              "      <th>2</th>\n",
              "      <td>8</td>\n",
              "      <td>183</td>\n",
              "      <td>64</td>\n",
              "      <td>0</td>\n",
              "      <td>0</td>\n",
              "      <td>23.3</td>\n",
              "      <td>0.672</td>\n",
              "      <td>32</td>\n",
              "      <td>1</td>\n",
              "    </tr>\n",
              "    <tr>\n",
              "      <th>3</th>\n",
              "      <td>1</td>\n",
              "      <td>89</td>\n",
              "      <td>66</td>\n",
              "      <td>23</td>\n",
              "      <td>94</td>\n",
              "      <td>28.1</td>\n",
              "      <td>0.167</td>\n",
              "      <td>21</td>\n",
              "      <td>0</td>\n",
              "    </tr>\n",
              "    <tr>\n",
              "      <th>4</th>\n",
              "      <td>0</td>\n",
              "      <td>137</td>\n",
              "      <td>40</td>\n",
              "      <td>35</td>\n",
              "      <td>168</td>\n",
              "      <td>43.1</td>\n",
              "      <td>2.288</td>\n",
              "      <td>33</td>\n",
              "      <td>1</td>\n",
              "    </tr>\n",
              "  </tbody>\n",
              "</table>\n",
              "</div>\n",
              "      <button class=\"colab-df-convert\" onclick=\"convertToInteractive('df-fe0977b5-3267-4637-ae37-974282ba41ba')\"\n",
              "              title=\"Convert this dataframe to an interactive table.\"\n",
              "              style=\"display:none;\">\n",
              "        \n",
              "  <svg xmlns=\"http://www.w3.org/2000/svg\" height=\"24px\"viewBox=\"0 0 24 24\"\n",
              "       width=\"24px\">\n",
              "    <path d=\"M0 0h24v24H0V0z\" fill=\"none\"/>\n",
              "    <path d=\"M18.56 5.44l.94 2.06.94-2.06 2.06-.94-2.06-.94-.94-2.06-.94 2.06-2.06.94zm-11 1L8.5 8.5l.94-2.06 2.06-.94-2.06-.94L8.5 2.5l-.94 2.06-2.06.94zm10 10l.94 2.06.94-2.06 2.06-.94-2.06-.94-.94-2.06-.94 2.06-2.06.94z\"/><path d=\"M17.41 7.96l-1.37-1.37c-.4-.4-.92-.59-1.43-.59-.52 0-1.04.2-1.43.59L10.3 9.45l-7.72 7.72c-.78.78-.78 2.05 0 2.83L4 21.41c.39.39.9.59 1.41.59.51 0 1.02-.2 1.41-.59l7.78-7.78 2.81-2.81c.8-.78.8-2.07 0-2.86zM5.41 20L4 18.59l7.72-7.72 1.47 1.35L5.41 20z\"/>\n",
              "  </svg>\n",
              "      </button>\n",
              "      \n",
              "  <style>\n",
              "    .colab-df-container {\n",
              "      display:flex;\n",
              "      flex-wrap:wrap;\n",
              "      gap: 12px;\n",
              "    }\n",
              "\n",
              "    .colab-df-convert {\n",
              "      background-color: #E8F0FE;\n",
              "      border: none;\n",
              "      border-radius: 50%;\n",
              "      cursor: pointer;\n",
              "      display: none;\n",
              "      fill: #1967D2;\n",
              "      height: 32px;\n",
              "      padding: 0 0 0 0;\n",
              "      width: 32px;\n",
              "    }\n",
              "\n",
              "    .colab-df-convert:hover {\n",
              "      background-color: #E2EBFA;\n",
              "      box-shadow: 0px 1px 2px rgba(60, 64, 67, 0.3), 0px 1px 3px 1px rgba(60, 64, 67, 0.15);\n",
              "      fill: #174EA6;\n",
              "    }\n",
              "\n",
              "    [theme=dark] .colab-df-convert {\n",
              "      background-color: #3B4455;\n",
              "      fill: #D2E3FC;\n",
              "    }\n",
              "\n",
              "    [theme=dark] .colab-df-convert:hover {\n",
              "      background-color: #434B5C;\n",
              "      box-shadow: 0px 1px 3px 1px rgba(0, 0, 0, 0.15);\n",
              "      filter: drop-shadow(0px 1px 2px rgba(0, 0, 0, 0.3));\n",
              "      fill: #FFFFFF;\n",
              "    }\n",
              "  </style>\n",
              "\n",
              "      <script>\n",
              "        const buttonEl =\n",
              "          document.querySelector('#df-fe0977b5-3267-4637-ae37-974282ba41ba button.colab-df-convert');\n",
              "        buttonEl.style.display =\n",
              "          google.colab.kernel.accessAllowed ? 'block' : 'none';\n",
              "\n",
              "        async function convertToInteractive(key) {\n",
              "          const element = document.querySelector('#df-fe0977b5-3267-4637-ae37-974282ba41ba');\n",
              "          const dataTable =\n",
              "            await google.colab.kernel.invokeFunction('convertToInteractive',\n",
              "                                                     [key], {});\n",
              "          if (!dataTable) return;\n",
              "\n",
              "          const docLinkHtml = 'Like what you see? Visit the ' +\n",
              "            '<a target=\"_blank\" href=https://colab.research.google.com/notebooks/data_table.ipynb>data table notebook</a>'\n",
              "            + ' to learn more about interactive tables.';\n",
              "          element.innerHTML = '';\n",
              "          dataTable['output_type'] = 'display_data';\n",
              "          await google.colab.output.renderOutput(dataTable, element);\n",
              "          const docLink = document.createElement('div');\n",
              "          docLink.innerHTML = docLinkHtml;\n",
              "          element.appendChild(docLink);\n",
              "        }\n",
              "      </script>\n",
              "    </div>\n",
              "  </div>\n",
              "  "
            ]
          },
          "metadata": {},
          "execution_count": 32
        }
      ]
    },
    {
      "cell_type": "markdown",
      "source": [
        "#1. טעינת מאגר המידע\n",
        "\n"
      ],
      "metadata": {
        "id": "Vu1pjcnOIUO3"
      }
    },
    {
      "cell_type": "markdown",
      "source": [
        "יש לשים לב כי העלתם את מאגר המידע ושאכן הוא נמצא בתוך הגוגל קולאב"
      ],
      "metadata": {
        "id": "WTSG-CjwOT6w"
      }
    },
    {
      "cell_type": "markdown",
      "source": [
        "\n",
        "כל הנתונים במאגר הם מספריים\n",
        "\n",
        "\n",
        "לכן אני משתמש בפונקציית טעינת הטקסט של נאמפיי בבטחה\n",
        "\n",
        "`loadtxt()`\n",
        "\n",
        "\n",
        "בטבלה יש שמונה משתני אינפוט ומשתנה אווטפוט יחיד\n",
        "טורים 0-7 אינפוט\n",
        "טור 8 - אווטפוט\n",
        "\n",
        " : המשתנים מסודרים כדלקמן\n",
        "\n",
        "<b>משתני אינפוט (X):</b>\n",
        "\n",
        "0. מספר ההריונות\n",
        "1. ריכוז הגלוקוז בדם לאחר בדיקת סבילות גלוקוז אוראלית הלוקחת כשעתיים\n",
        "2. לחץ דם דיאסטולי\n",
        "3. עובי העור מעל שריר הטרייספ\n",
        "4. ריכוז האינסולין בדם לאחר בדיקת סבילות אינסולין הלוקחת כשעתיים\n",
        "5. BMI (W/H^2) - W [KG] , H [m]\n",
        "6. פונקציית הסיכוי הגנטית לחלות בסוכרת \n",
        "7. גיל\n",
        "\n",
        "<b>משתני אווטפוט (Y):</b>\n",
        "\n",
        "8. מצב המטופל (0 או 1)\n",
        "\n",
        "\n"
      ],
      "metadata": {
        "id": "_DZ3dN8yOmZy"
      }
    },
    {
      "cell_type": "code",
      "execution_count": 33,
      "metadata": {
        "id": "0p5uzn7sbR_f"
      },
      "outputs": [],
      "source": [
        "#יצירת המערך הדו מימדי אשר מחזיק בתוכו את מאגר הנתונים\n",
        "dataset = loadtxt('/content/pima-indians-diabetes.csv', delimiter=',')\n",
        "\n",
        "#מצורפת דוגמה תיאורטית למערך כטבלה - "
      ]
    },
    {
      "cell_type": "code",
      "execution_count": 34,
      "metadata": {
        "id": "v47nM6LubR_i",
        "outputId": "313399c5-644e-4e02-d1ad-a61d407b7ab7",
        "colab": {
          "base_uri": "https://localhost:8080/"
        }
      },
      "outputs": [
        {
          "output_type": "execute_result",
          "data": {
            "text/plain": [
              "array([[  6.   , 148.   ,  72.   , ...,   0.627,  50.   ,   1.   ],\n",
              "       [  1.   ,  85.   ,  66.   , ...,   0.351,  31.   ,   0.   ],\n",
              "       [  8.   , 183.   ,  64.   , ...,   0.672,  32.   ,   1.   ],\n",
              "       ...,\n",
              "       [  5.   , 121.   ,  72.   , ...,   0.245,  30.   ,   0.   ],\n",
              "       [  1.   , 126.   ,  60.   , ...,   0.349,  47.   ,   1.   ],\n",
              "       [  1.   ,  93.   ,  70.   , ...,   0.315,  23.   ,   0.   ]])"
            ]
          },
          "metadata": {},
          "execution_count": 34
        }
      ],
      "source": [
        "dataset\n",
        "#מצורפת דוגמה לדרך בה הטבלה מיוצגת כמערך - "
      ]
    },
    {
      "cell_type": "code",
      "execution_count": 35,
      "metadata": {
        "id": "odtjOyPLbR_j"
      },
      "outputs": [],
      "source": [
        "# פיצול משתני האינפוט - איקס והאווטפוט ווי. \n",
        "X = dataset[:,0:8]\n",
        "y = dataset[:,8]"
      ]
    },
    {
      "cell_type": "code",
      "execution_count": 36,
      "metadata": {
        "colab": {
          "base_uri": "https://localhost:8080/"
        },
        "id": "XYeOAxiRbR_k",
        "outputId": "f587fe36-23c7-4aee-a00e-a7dc1dd624a2"
      },
      "outputs": [
        {
          "output_type": "stream",
          "name": "stdout",
          "text": [
            "Scaled_X:\n",
            " [[ 0.63994726  0.84832379  0.14964075 ...  0.20401277  0.46849198\n",
            "   1.4259954 ]\n",
            " [-0.84488505 -1.12339636 -0.16054575 ... -0.68442195 -0.36506078\n",
            "  -0.19067191]\n",
            " [ 1.23388019  1.94372388 -0.26394125 ... -1.10325546  0.60439732\n",
            "  -0.10558415]\n",
            " ...\n",
            " [ 0.3429808   0.00330087  0.14964075 ... -0.73518964 -0.68519336\n",
            "  -0.27575966]\n",
            " [-0.84488505  0.1597866  -0.47073225 ... -0.24020459 -0.37110101\n",
            "   1.17073215]\n",
            " [-0.84488505 -0.8730192   0.04624525 ... -0.20212881 -0.47378505\n",
            "  -0.87137393]]\n"
          ]
        }
      ],
      "source": [
        "#ביצוע סקיילינג לנתוני האינפוט\n",
        "X_scaled = scale(X) \n",
        "print('Scaled_X:\\n', X_scaled)"
      ]
    },
    {
      "cell_type": "code",
      "execution_count": 37,
      "metadata": {
        "id": "csls-3JrbR_l"
      },
      "outputs": [],
      "source": [
        "# פיצול הנתונים לסט אימון וסט טסטינג\n",
        "X_train, X_test, y_train, y_test = train_test_split(X_scaled, y, test_size=0.33, random_state=42)"
      ]
    },
    {
      "cell_type": "code",
      "source": [
        "# הופך מערך מספרים לכדי מטריצה\n",
        "y_train = np_utils.to_categorical(y_train)\n",
        "\n",
        "print('Y_Train Encoded:\\n', y_train)"
      ],
      "metadata": {
        "id": "SZXE6dYnccOc",
        "colab": {
          "base_uri": "https://localhost:8080/"
        },
        "outputId": "f018ae03-5bc8-46e8-f1ae-361bb10ad884"
      },
      "execution_count": 38,
      "outputs": [
        {
          "output_type": "stream",
          "name": "stdout",
          "text": [
            "Y_Train Encoded:\n",
            " [[1. 0.]\n",
            " [1. 0.]\n",
            " [1. 0.]\n",
            " ...\n",
            " [0. 1.]\n",
            " [0. 1.]\n",
            " [1. 0.]]\n"
          ]
        }
      ]
    },
    {
      "cell_type": "markdown",
      "source": [
        "## 2. הגדרת המודל"
      ],
      "metadata": {
        "id": "0jx7k_gKVch3"
      }
    },
    {
      "cell_type": "markdown",
      "source": [
        "* ארכיטקטורת המודל\n",
        " * 3 שכבות\n",
        " * 22 נוירונים\n",
        " * פונקציות הפעלה - סיגמואיד, רלו וליקי רלו\n",
        " * פונקציית אופטימיזציה - אדם\n",
        " * פונקציית ההפסד - אנטרופיה בינארית מוצלבת\n",
        "\n"
      ],
      "metadata": {
        "id": "rlO50DDzVxns"
      }
    },
    {
      "cell_type": "code",
      "execution_count": 39,
      "metadata": {
        "id": "c1IkLgSjbR_n"
      },
      "outputs": [],
      "source": [
        "# הגדרת המודל בעזרת קראס\n",
        "model = Sequential()\n",
        "model.add(Dense(12, input_dim=8, activation='LeakyReLU'))\n",
        "model.add(Dense(8, activation='ReLU'))\n",
        "model.add(Dense(2, activation='sigmoid'))"
      ]
    },
    {
      "cell_type": "markdown",
      "source": [
        "## 3. קומפילציית המודל"
      ],
      "metadata": {
        "id": "yHfJfeD1Wqjf"
      }
    },
    {
      "cell_type": "code",
      "source": [
        "# קומפליצית מודל הקראס\n",
        "model.compile(loss='binary_crossentropy', optimizer='adam', metrics=['accuracy'])"
      ],
      "metadata": {
        "id": "35zF8UWxW-AD"
      },
      "execution_count": 40,
      "outputs": []
    },
    {
      "cell_type": "markdown",
      "source": [
        "## 4. אימון המודל"
      ],
      "metadata": {
        "id": "lSITR_Y5XFR5"
      }
    },
    {
      "cell_type": "markdown",
      "source": [
        ""
      ],
      "metadata": {
        "id": "-7o4PVLkXHpx"
      }
    },
    {
      "cell_type": "code",
      "execution_count": 41,
      "metadata": {
        "id": "SzAzRmvsbR_o",
        "outputId": "c705dc51-ea45-4845-b2d8-22e940ef012d",
        "colab": {
          "base_uri": "https://localhost:8080/"
        }
      },
      "outputs": [
        {
          "output_type": "stream",
          "name": "stdout",
          "text": [
            "Epoch 1/150\n",
            "35/35 [==============================] - 2s 30ms/step - loss: 0.6625 - accuracy: 0.6250 - val_loss: 0.6328 - val_accuracy: 0.6353\n",
            "Epoch 2/150\n",
            "35/35 [==============================] - 0s 3ms/step - loss: 0.6065 - accuracy: 0.6773 - val_loss: 0.5923 - val_accuracy: 0.7176\n",
            "Epoch 3/150\n",
            "35/35 [==============================] - 0s 4ms/step - loss: 0.5665 - accuracy: 0.7238 - val_loss: 0.5634 - val_accuracy: 0.7353\n",
            "Epoch 4/150\n",
            "35/35 [==============================] - 0s 4ms/step - loss: 0.5355 - accuracy: 0.7529 - val_loss: 0.5404 - val_accuracy: 0.7471\n",
            "Epoch 5/150\n",
            "35/35 [==============================] - 0s 5ms/step - loss: 0.5117 - accuracy: 0.7645 - val_loss: 0.5230 - val_accuracy: 0.7647\n",
            "Epoch 6/150\n",
            "35/35 [==============================] - 0s 4ms/step - loss: 0.4937 - accuracy: 0.7820 - val_loss: 0.5097 - val_accuracy: 0.7588\n",
            "Epoch 7/150\n",
            "35/35 [==============================] - 0s 5ms/step - loss: 0.4793 - accuracy: 0.7849 - val_loss: 0.4987 - val_accuracy: 0.7588\n",
            "Epoch 8/150\n",
            "35/35 [==============================] - 0s 5ms/step - loss: 0.4688 - accuracy: 0.7849 - val_loss: 0.4910 - val_accuracy: 0.7529\n",
            "Epoch 9/150\n",
            "35/35 [==============================] - 0s 4ms/step - loss: 0.4602 - accuracy: 0.7762 - val_loss: 0.4851 - val_accuracy: 0.7529\n",
            "Epoch 10/150\n",
            "35/35 [==============================] - 0s 5ms/step - loss: 0.4532 - accuracy: 0.7820 - val_loss: 0.4815 - val_accuracy: 0.7471\n",
            "Epoch 11/150\n",
            "35/35 [==============================] - 0s 5ms/step - loss: 0.4477 - accuracy: 0.7791 - val_loss: 0.4790 - val_accuracy: 0.7471\n",
            "Epoch 12/150\n",
            "35/35 [==============================] - 0s 4ms/step - loss: 0.4437 - accuracy: 0.7791 - val_loss: 0.4779 - val_accuracy: 0.7529\n",
            "Epoch 13/150\n",
            "35/35 [==============================] - 0s 5ms/step - loss: 0.4401 - accuracy: 0.7762 - val_loss: 0.4767 - val_accuracy: 0.7471\n",
            "Epoch 14/150\n",
            "35/35 [==============================] - 0s 3ms/step - loss: 0.4378 - accuracy: 0.7762 - val_loss: 0.4767 - val_accuracy: 0.7529\n",
            "Epoch 15/150\n",
            "35/35 [==============================] - 0s 5ms/step - loss: 0.4346 - accuracy: 0.7733 - val_loss: 0.4771 - val_accuracy: 0.7529\n",
            "Epoch 16/150\n",
            "35/35 [==============================] - 0s 5ms/step - loss: 0.4325 - accuracy: 0.7820 - val_loss: 0.4770 - val_accuracy: 0.7471\n",
            "Epoch 17/150\n",
            "35/35 [==============================] - 0s 5ms/step - loss: 0.4314 - accuracy: 0.7820 - val_loss: 0.4776 - val_accuracy: 0.7471\n",
            "Epoch 18/150\n",
            "35/35 [==============================] - 0s 3ms/step - loss: 0.4289 - accuracy: 0.7820 - val_loss: 0.4781 - val_accuracy: 0.7471\n",
            "Epoch 19/150\n",
            "35/35 [==============================] - 0s 5ms/step - loss: 0.4281 - accuracy: 0.7762 - val_loss: 0.4791 - val_accuracy: 0.7412\n",
            "Epoch 20/150\n",
            "35/35 [==============================] - 0s 4ms/step - loss: 0.4259 - accuracy: 0.7762 - val_loss: 0.4786 - val_accuracy: 0.7412\n",
            "Epoch 21/150\n",
            "35/35 [==============================] - 0s 5ms/step - loss: 0.4251 - accuracy: 0.7820 - val_loss: 0.4800 - val_accuracy: 0.7412\n",
            "Epoch 22/150\n",
            "35/35 [==============================] - 0s 4ms/step - loss: 0.4237 - accuracy: 0.7878 - val_loss: 0.4799 - val_accuracy: 0.7412\n",
            "Epoch 23/150\n",
            "35/35 [==============================] - 0s 4ms/step - loss: 0.4232 - accuracy: 0.7878 - val_loss: 0.4806 - val_accuracy: 0.7471\n",
            "Epoch 24/150\n",
            "35/35 [==============================] - 0s 3ms/step - loss: 0.4216 - accuracy: 0.7936 - val_loss: 0.4808 - val_accuracy: 0.7471\n",
            "Epoch 25/150\n",
            "35/35 [==============================] - 0s 3ms/step - loss: 0.4208 - accuracy: 0.7878 - val_loss: 0.4815 - val_accuracy: 0.7471\n",
            "Epoch 26/150\n",
            "35/35 [==============================] - 0s 3ms/step - loss: 0.4195 - accuracy: 0.7907 - val_loss: 0.4813 - val_accuracy: 0.7412\n",
            "Epoch 27/150\n",
            "35/35 [==============================] - 0s 3ms/step - loss: 0.4187 - accuracy: 0.7936 - val_loss: 0.4816 - val_accuracy: 0.7471\n",
            "Epoch 28/150\n",
            "35/35 [==============================] - 0s 4ms/step - loss: 0.4178 - accuracy: 0.7965 - val_loss: 0.4825 - val_accuracy: 0.7471\n",
            "Epoch 29/150\n",
            "35/35 [==============================] - 0s 3ms/step - loss: 0.4176 - accuracy: 0.7907 - val_loss: 0.4828 - val_accuracy: 0.7471\n",
            "Epoch 30/150\n",
            "35/35 [==============================] - 0s 3ms/step - loss: 0.4163 - accuracy: 0.7936 - val_loss: 0.4823 - val_accuracy: 0.7471\n",
            "Epoch 31/150\n",
            "35/35 [==============================] - 0s 4ms/step - loss: 0.4156 - accuracy: 0.8052 - val_loss: 0.4829 - val_accuracy: 0.7412\n",
            "Epoch 32/150\n",
            "35/35 [==============================] - 0s 4ms/step - loss: 0.4154 - accuracy: 0.7965 - val_loss: 0.4838 - val_accuracy: 0.7471\n",
            "Epoch 33/150\n",
            "35/35 [==============================] - 0s 4ms/step - loss: 0.4147 - accuracy: 0.8023 - val_loss: 0.4843 - val_accuracy: 0.7471\n",
            "Epoch 34/150\n",
            "35/35 [==============================] - 0s 4ms/step - loss: 0.4146 - accuracy: 0.7994 - val_loss: 0.4853 - val_accuracy: 0.7471\n",
            "Epoch 35/150\n",
            "35/35 [==============================] - 0s 4ms/step - loss: 0.4129 - accuracy: 0.8023 - val_loss: 0.4848 - val_accuracy: 0.7471\n",
            "Epoch 36/150\n",
            "35/35 [==============================] - 0s 4ms/step - loss: 0.4123 - accuracy: 0.8023 - val_loss: 0.4851 - val_accuracy: 0.7412\n",
            "Epoch 37/150\n",
            "35/35 [==============================] - 0s 4ms/step - loss: 0.4115 - accuracy: 0.8023 - val_loss: 0.4855 - val_accuracy: 0.7471\n",
            "Epoch 38/150\n",
            "35/35 [==============================] - 0s 4ms/step - loss: 0.4111 - accuracy: 0.7994 - val_loss: 0.4847 - val_accuracy: 0.7412\n",
            "Epoch 39/150\n",
            "35/35 [==============================] - 0s 3ms/step - loss: 0.4100 - accuracy: 0.8081 - val_loss: 0.4861 - val_accuracy: 0.7471\n",
            "Epoch 40/150\n",
            "35/35 [==============================] - 0s 4ms/step - loss: 0.4090 - accuracy: 0.8110 - val_loss: 0.4861 - val_accuracy: 0.7529\n",
            "Epoch 41/150\n",
            "35/35 [==============================] - 0s 5ms/step - loss: 0.4096 - accuracy: 0.8023 - val_loss: 0.4893 - val_accuracy: 0.7412\n",
            "Epoch 42/150\n",
            "35/35 [==============================] - 0s 4ms/step - loss: 0.4087 - accuracy: 0.7994 - val_loss: 0.4879 - val_accuracy: 0.7412\n",
            "Epoch 43/150\n",
            "35/35 [==============================] - 0s 3ms/step - loss: 0.4083 - accuracy: 0.8081 - val_loss: 0.4882 - val_accuracy: 0.7412\n",
            "Epoch 44/150\n",
            "35/35 [==============================] - 0s 3ms/step - loss: 0.4071 - accuracy: 0.8052 - val_loss: 0.4882 - val_accuracy: 0.7471\n",
            "Epoch 45/150\n",
            "35/35 [==============================] - 0s 4ms/step - loss: 0.4063 - accuracy: 0.8081 - val_loss: 0.4888 - val_accuracy: 0.7471\n",
            "Epoch 46/150\n",
            "35/35 [==============================] - 0s 5ms/step - loss: 0.4062 - accuracy: 0.8081 - val_loss: 0.4889 - val_accuracy: 0.7471\n",
            "Epoch 47/150\n",
            "35/35 [==============================] - 0s 4ms/step - loss: 0.4075 - accuracy: 0.8023 - val_loss: 0.4910 - val_accuracy: 0.7471\n",
            "Epoch 48/150\n",
            "35/35 [==============================] - 0s 3ms/step - loss: 0.4045 - accuracy: 0.8110 - val_loss: 0.4895 - val_accuracy: 0.7471\n",
            "Epoch 49/150\n",
            "35/35 [==============================] - 0s 3ms/step - loss: 0.4046 - accuracy: 0.8052 - val_loss: 0.4906 - val_accuracy: 0.7471\n",
            "Epoch 50/150\n",
            "35/35 [==============================] - 0s 3ms/step - loss: 0.4037 - accuracy: 0.8081 - val_loss: 0.4915 - val_accuracy: 0.7471\n",
            "Epoch 51/150\n",
            "35/35 [==============================] - 0s 3ms/step - loss: 0.4036 - accuracy: 0.8081 - val_loss: 0.4909 - val_accuracy: 0.7412\n",
            "Epoch 52/150\n",
            "35/35 [==============================] - 0s 3ms/step - loss: 0.4028 - accuracy: 0.8052 - val_loss: 0.4925 - val_accuracy: 0.7529\n",
            "Epoch 53/150\n",
            "35/35 [==============================] - 0s 3ms/step - loss: 0.4016 - accuracy: 0.8081 - val_loss: 0.4927 - val_accuracy: 0.7529\n",
            "Epoch 54/150\n",
            "35/35 [==============================] - 0s 4ms/step - loss: 0.4011 - accuracy: 0.8023 - val_loss: 0.4931 - val_accuracy: 0.7529\n",
            "Epoch 55/150\n",
            "35/35 [==============================] - 0s 3ms/step - loss: 0.4011 - accuracy: 0.8052 - val_loss: 0.4935 - val_accuracy: 0.7529\n",
            "Epoch 56/150\n",
            "35/35 [==============================] - 0s 3ms/step - loss: 0.3996 - accuracy: 0.8052 - val_loss: 0.4941 - val_accuracy: 0.7471\n",
            "Epoch 57/150\n",
            "35/35 [==============================] - 0s 3ms/step - loss: 0.3995 - accuracy: 0.8081 - val_loss: 0.4945 - val_accuracy: 0.7412\n",
            "Epoch 58/150\n",
            "35/35 [==============================] - 0s 3ms/step - loss: 0.3988 - accuracy: 0.8081 - val_loss: 0.4956 - val_accuracy: 0.7471\n",
            "Epoch 59/150\n",
            "35/35 [==============================] - 0s 3ms/step - loss: 0.3975 - accuracy: 0.8081 - val_loss: 0.4959 - val_accuracy: 0.7412\n",
            "Epoch 60/150\n",
            "35/35 [==============================] - 0s 3ms/step - loss: 0.3980 - accuracy: 0.8052 - val_loss: 0.4954 - val_accuracy: 0.7412\n",
            "Epoch 61/150\n",
            "35/35 [==============================] - 0s 3ms/step - loss: 0.3970 - accuracy: 0.8023 - val_loss: 0.4960 - val_accuracy: 0.7412\n",
            "Epoch 62/150\n",
            "35/35 [==============================] - 0s 3ms/step - loss: 0.3976 - accuracy: 0.8023 - val_loss: 0.4976 - val_accuracy: 0.7353\n",
            "Epoch 63/150\n",
            "35/35 [==============================] - 0s 3ms/step - loss: 0.3952 - accuracy: 0.8169 - val_loss: 0.4976 - val_accuracy: 0.7412\n",
            "Epoch 64/150\n",
            "35/35 [==============================] - 0s 3ms/step - loss: 0.3951 - accuracy: 0.8023 - val_loss: 0.4973 - val_accuracy: 0.7412\n",
            "Epoch 65/150\n",
            "35/35 [==============================] - 0s 3ms/step - loss: 0.3939 - accuracy: 0.8110 - val_loss: 0.4979 - val_accuracy: 0.7353\n",
            "Epoch 66/150\n",
            "35/35 [==============================] - 0s 3ms/step - loss: 0.3935 - accuracy: 0.8110 - val_loss: 0.4989 - val_accuracy: 0.7353\n",
            "Epoch 67/150\n",
            "35/35 [==============================] - 0s 3ms/step - loss: 0.3933 - accuracy: 0.8169 - val_loss: 0.4992 - val_accuracy: 0.7353\n",
            "Epoch 68/150\n",
            "35/35 [==============================] - 0s 3ms/step - loss: 0.3928 - accuracy: 0.8081 - val_loss: 0.5020 - val_accuracy: 0.7353\n",
            "Epoch 69/150\n",
            "35/35 [==============================] - 0s 3ms/step - loss: 0.3927 - accuracy: 0.8081 - val_loss: 0.5013 - val_accuracy: 0.7353\n",
            "Epoch 70/150\n",
            "35/35 [==============================] - 0s 3ms/step - loss: 0.3939 - accuracy: 0.8081 - val_loss: 0.5022 - val_accuracy: 0.7353\n",
            "Epoch 71/150\n",
            "35/35 [==============================] - 0s 3ms/step - loss: 0.3903 - accuracy: 0.8110 - val_loss: 0.5026 - val_accuracy: 0.7412\n",
            "Epoch 72/150\n",
            "35/35 [==============================] - 0s 3ms/step - loss: 0.3912 - accuracy: 0.8140 - val_loss: 0.5033 - val_accuracy: 0.7471\n",
            "Epoch 73/150\n",
            "35/35 [==============================] - 0s 3ms/step - loss: 0.3909 - accuracy: 0.8081 - val_loss: 0.5042 - val_accuracy: 0.7412\n",
            "Epoch 74/150\n",
            "35/35 [==============================] - 0s 3ms/step - loss: 0.3892 - accuracy: 0.8140 - val_loss: 0.5026 - val_accuracy: 0.7353\n",
            "Epoch 75/150\n",
            "35/35 [==============================] - 0s 3ms/step - loss: 0.3896 - accuracy: 0.8140 - val_loss: 0.5040 - val_accuracy: 0.7412\n",
            "Epoch 76/150\n",
            "35/35 [==============================] - 0s 3ms/step - loss: 0.3883 - accuracy: 0.8169 - val_loss: 0.5049 - val_accuracy: 0.7412\n",
            "Epoch 77/150\n",
            "35/35 [==============================] - 0s 3ms/step - loss: 0.3893 - accuracy: 0.8110 - val_loss: 0.5055 - val_accuracy: 0.7412\n",
            "Epoch 78/150\n",
            "35/35 [==============================] - 0s 3ms/step - loss: 0.3881 - accuracy: 0.8169 - val_loss: 0.5060 - val_accuracy: 0.7353\n",
            "Epoch 79/150\n",
            "35/35 [==============================] - 0s 3ms/step - loss: 0.3889 - accuracy: 0.8052 - val_loss: 0.5056 - val_accuracy: 0.7412\n",
            "Epoch 80/150\n",
            "35/35 [==============================] - 0s 4ms/step - loss: 0.3865 - accuracy: 0.8169 - val_loss: 0.5085 - val_accuracy: 0.7412\n",
            "Epoch 81/150\n",
            "35/35 [==============================] - 0s 3ms/step - loss: 0.3873 - accuracy: 0.8052 - val_loss: 0.5054 - val_accuracy: 0.7294\n",
            "Epoch 82/150\n",
            "35/35 [==============================] - 0s 3ms/step - loss: 0.3865 - accuracy: 0.8110 - val_loss: 0.5068 - val_accuracy: 0.7353\n",
            "Epoch 83/150\n",
            "35/35 [==============================] - 0s 3ms/step - loss: 0.3848 - accuracy: 0.8169 - val_loss: 0.5068 - val_accuracy: 0.7294\n",
            "Epoch 84/150\n",
            "35/35 [==============================] - 0s 4ms/step - loss: 0.3847 - accuracy: 0.8110 - val_loss: 0.5068 - val_accuracy: 0.7294\n",
            "Epoch 85/150\n",
            "35/35 [==============================] - 0s 6ms/step - loss: 0.3847 - accuracy: 0.8140 - val_loss: 0.5087 - val_accuracy: 0.7471\n",
            "Epoch 86/150\n",
            "35/35 [==============================] - 0s 7ms/step - loss: 0.3849 - accuracy: 0.8140 - val_loss: 0.5057 - val_accuracy: 0.7353\n",
            "Epoch 87/150\n",
            "35/35 [==============================] - 0s 7ms/step - loss: 0.3830 - accuracy: 0.8169 - val_loss: 0.5067 - val_accuracy: 0.7353\n",
            "Epoch 88/150\n",
            "35/35 [==============================] - 0s 6ms/step - loss: 0.3832 - accuracy: 0.8198 - val_loss: 0.5075 - val_accuracy: 0.7353\n",
            "Epoch 89/150\n",
            "35/35 [==============================] - 0s 7ms/step - loss: 0.3824 - accuracy: 0.8227 - val_loss: 0.5095 - val_accuracy: 0.7471\n",
            "Epoch 90/150\n",
            "35/35 [==============================] - 0s 6ms/step - loss: 0.3825 - accuracy: 0.8227 - val_loss: 0.5079 - val_accuracy: 0.7353\n",
            "Epoch 91/150\n",
            "35/35 [==============================] - 0s 7ms/step - loss: 0.3819 - accuracy: 0.8169 - val_loss: 0.5095 - val_accuracy: 0.7412\n",
            "Epoch 92/150\n",
            "35/35 [==============================] - 0s 7ms/step - loss: 0.3812 - accuracy: 0.8198 - val_loss: 0.5079 - val_accuracy: 0.7353\n",
            "Epoch 93/150\n",
            "35/35 [==============================] - 0s 8ms/step - loss: 0.3801 - accuracy: 0.8227 - val_loss: 0.5081 - val_accuracy: 0.7353\n",
            "Epoch 94/150\n",
            "35/35 [==============================] - 0s 6ms/step - loss: 0.3793 - accuracy: 0.8285 - val_loss: 0.5092 - val_accuracy: 0.7294\n",
            "Epoch 95/150\n",
            "35/35 [==============================] - 0s 7ms/step - loss: 0.3812 - accuracy: 0.8227 - val_loss: 0.5097 - val_accuracy: 0.7353\n",
            "Epoch 96/150\n",
            "35/35 [==============================] - 0s 6ms/step - loss: 0.3791 - accuracy: 0.8256 - val_loss: 0.5104 - val_accuracy: 0.7353\n",
            "Epoch 97/150\n",
            "35/35 [==============================] - 0s 5ms/step - loss: 0.3787 - accuracy: 0.8256 - val_loss: 0.5090 - val_accuracy: 0.7412\n",
            "Epoch 98/150\n",
            "35/35 [==============================] - 0s 5ms/step - loss: 0.3821 - accuracy: 0.8198 - val_loss: 0.5110 - val_accuracy: 0.7412\n",
            "Epoch 99/150\n",
            "35/35 [==============================] - 0s 4ms/step - loss: 0.3808 - accuracy: 0.8256 - val_loss: 0.5138 - val_accuracy: 0.7529\n",
            "Epoch 100/150\n",
            "35/35 [==============================] - 0s 6ms/step - loss: 0.3796 - accuracy: 0.8314 - val_loss: 0.5103 - val_accuracy: 0.7471\n",
            "Epoch 101/150\n",
            "35/35 [==============================] - 0s 6ms/step - loss: 0.3780 - accuracy: 0.8285 - val_loss: 0.5120 - val_accuracy: 0.7471\n",
            "Epoch 102/150\n",
            "35/35 [==============================] - 0s 3ms/step - loss: 0.3765 - accuracy: 0.8227 - val_loss: 0.5132 - val_accuracy: 0.7412\n",
            "Epoch 103/150\n",
            "35/35 [==============================] - 0s 4ms/step - loss: 0.3771 - accuracy: 0.8314 - val_loss: 0.5121 - val_accuracy: 0.7412\n",
            "Epoch 104/150\n",
            "35/35 [==============================] - 0s 3ms/step - loss: 0.3771 - accuracy: 0.8256 - val_loss: 0.5110 - val_accuracy: 0.7412\n",
            "Epoch 105/150\n",
            "35/35 [==============================] - 0s 3ms/step - loss: 0.3772 - accuracy: 0.8256 - val_loss: 0.5112 - val_accuracy: 0.7471\n",
            "Epoch 106/150\n",
            "35/35 [==============================] - 0s 3ms/step - loss: 0.3785 - accuracy: 0.8285 - val_loss: 0.5147 - val_accuracy: 0.7471\n",
            "Epoch 107/150\n",
            "35/35 [==============================] - 0s 4ms/step - loss: 0.3746 - accuracy: 0.8285 - val_loss: 0.5135 - val_accuracy: 0.7412\n",
            "Epoch 108/150\n",
            "35/35 [==============================] - 0s 3ms/step - loss: 0.3751 - accuracy: 0.8285 - val_loss: 0.5120 - val_accuracy: 0.7412\n",
            "Epoch 109/150\n",
            "35/35 [==============================] - 0s 4ms/step - loss: 0.3734 - accuracy: 0.8314 - val_loss: 0.5144 - val_accuracy: 0.7471\n",
            "Epoch 110/150\n",
            "35/35 [==============================] - 0s 3ms/step - loss: 0.3733 - accuracy: 0.8285 - val_loss: 0.5139 - val_accuracy: 0.7412\n",
            "Epoch 111/150\n",
            "35/35 [==============================] - 0s 3ms/step - loss: 0.3737 - accuracy: 0.8256 - val_loss: 0.5129 - val_accuracy: 0.7412\n",
            "Epoch 112/150\n",
            "35/35 [==============================] - 0s 3ms/step - loss: 0.3730 - accuracy: 0.8285 - val_loss: 0.5157 - val_accuracy: 0.7471\n",
            "Epoch 113/150\n",
            "35/35 [==============================] - 0s 3ms/step - loss: 0.3728 - accuracy: 0.8256 - val_loss: 0.5149 - val_accuracy: 0.7471\n",
            "Epoch 114/150\n",
            "35/35 [==============================] - 0s 3ms/step - loss: 0.3727 - accuracy: 0.8314 - val_loss: 0.5141 - val_accuracy: 0.7471\n",
            "Epoch 115/150\n",
            "35/35 [==============================] - 0s 3ms/step - loss: 0.3731 - accuracy: 0.8285 - val_loss: 0.5127 - val_accuracy: 0.7471\n",
            "Epoch 116/150\n",
            "35/35 [==============================] - 0s 3ms/step - loss: 0.3715 - accuracy: 0.8285 - val_loss: 0.5144 - val_accuracy: 0.7471\n",
            "Epoch 117/150\n",
            "35/35 [==============================] - 0s 4ms/step - loss: 0.3710 - accuracy: 0.8314 - val_loss: 0.5146 - val_accuracy: 0.7471\n",
            "Epoch 118/150\n",
            "35/35 [==============================] - 0s 3ms/step - loss: 0.3710 - accuracy: 0.8314 - val_loss: 0.5143 - val_accuracy: 0.7412\n",
            "Epoch 119/150\n",
            "35/35 [==============================] - 0s 3ms/step - loss: 0.3698 - accuracy: 0.8314 - val_loss: 0.5150 - val_accuracy: 0.7412\n",
            "Epoch 120/150\n",
            "35/35 [==============================] - 0s 3ms/step - loss: 0.3695 - accuracy: 0.8314 - val_loss: 0.5143 - val_accuracy: 0.7471\n",
            "Epoch 121/150\n",
            "35/35 [==============================] - 0s 4ms/step - loss: 0.3704 - accuracy: 0.8314 - val_loss: 0.5154 - val_accuracy: 0.7529\n",
            "Epoch 122/150\n",
            "35/35 [==============================] - 0s 3ms/step - loss: 0.3697 - accuracy: 0.8314 - val_loss: 0.5175 - val_accuracy: 0.7412\n",
            "Epoch 123/150\n",
            "35/35 [==============================] - 0s 4ms/step - loss: 0.3710 - accuracy: 0.8314 - val_loss: 0.5134 - val_accuracy: 0.7471\n",
            "Epoch 124/150\n",
            "35/35 [==============================] - 0s 4ms/step - loss: 0.3686 - accuracy: 0.8314 - val_loss: 0.5174 - val_accuracy: 0.7529\n",
            "Epoch 125/150\n",
            "35/35 [==============================] - 0s 4ms/step - loss: 0.3680 - accuracy: 0.8314 - val_loss: 0.5135 - val_accuracy: 0.7471\n",
            "Epoch 126/150\n",
            "35/35 [==============================] - 0s 4ms/step - loss: 0.3684 - accuracy: 0.8256 - val_loss: 0.5155 - val_accuracy: 0.7529\n",
            "Epoch 127/150\n",
            "35/35 [==============================] - 0s 4ms/step - loss: 0.3670 - accuracy: 0.8343 - val_loss: 0.5166 - val_accuracy: 0.7529\n",
            "Epoch 128/150\n",
            "35/35 [==============================] - 0s 4ms/step - loss: 0.3664 - accuracy: 0.8314 - val_loss: 0.5166 - val_accuracy: 0.7471\n",
            "Epoch 129/150\n",
            "35/35 [==============================] - 0s 4ms/step - loss: 0.3666 - accuracy: 0.8285 - val_loss: 0.5160 - val_accuracy: 0.7529\n",
            "Epoch 130/150\n",
            "35/35 [==============================] - 0s 3ms/step - loss: 0.3671 - accuracy: 0.8343 - val_loss: 0.5166 - val_accuracy: 0.7471\n",
            "Epoch 131/150\n",
            "35/35 [==============================] - 0s 5ms/step - loss: 0.3673 - accuracy: 0.8285 - val_loss: 0.5170 - val_accuracy: 0.7471\n",
            "Epoch 132/150\n",
            "35/35 [==============================] - 0s 5ms/step - loss: 0.3668 - accuracy: 0.8343 - val_loss: 0.5187 - val_accuracy: 0.7588\n",
            "Epoch 133/150\n",
            "35/35 [==============================] - 0s 4ms/step - loss: 0.3652 - accuracy: 0.8314 - val_loss: 0.5167 - val_accuracy: 0.7529\n",
            "Epoch 134/150\n",
            "35/35 [==============================] - 0s 4ms/step - loss: 0.3647 - accuracy: 0.8343 - val_loss: 0.5153 - val_accuracy: 0.7529\n",
            "Epoch 135/150\n",
            "35/35 [==============================] - 0s 4ms/step - loss: 0.3651 - accuracy: 0.8314 - val_loss: 0.5152 - val_accuracy: 0.7529\n",
            "Epoch 136/150\n",
            "35/35 [==============================] - 0s 4ms/step - loss: 0.3645 - accuracy: 0.8343 - val_loss: 0.5175 - val_accuracy: 0.7529\n",
            "Epoch 137/150\n",
            "35/35 [==============================] - 0s 4ms/step - loss: 0.3643 - accuracy: 0.8372 - val_loss: 0.5191 - val_accuracy: 0.7529\n",
            "Epoch 138/150\n",
            "35/35 [==============================] - 0s 3ms/step - loss: 0.3642 - accuracy: 0.8314 - val_loss: 0.5155 - val_accuracy: 0.7529\n",
            "Epoch 139/150\n",
            "35/35 [==============================] - 0s 3ms/step - loss: 0.3635 - accuracy: 0.8372 - val_loss: 0.5178 - val_accuracy: 0.7529\n",
            "Epoch 140/150\n",
            "35/35 [==============================] - 0s 3ms/step - loss: 0.3624 - accuracy: 0.8372 - val_loss: 0.5200 - val_accuracy: 0.7529\n",
            "Epoch 141/150\n",
            "35/35 [==============================] - 0s 3ms/step - loss: 0.3618 - accuracy: 0.8430 - val_loss: 0.5202 - val_accuracy: 0.7471\n",
            "Epoch 142/150\n",
            "35/35 [==============================] - 0s 3ms/step - loss: 0.3630 - accuracy: 0.8372 - val_loss: 0.5185 - val_accuracy: 0.7471\n",
            "Epoch 143/150\n",
            "35/35 [==============================] - 0s 3ms/step - loss: 0.3625 - accuracy: 0.8343 - val_loss: 0.5215 - val_accuracy: 0.7471\n",
            "Epoch 144/150\n",
            "35/35 [==============================] - 0s 3ms/step - loss: 0.3617 - accuracy: 0.8430 - val_loss: 0.5211 - val_accuracy: 0.7471\n",
            "Epoch 145/150\n",
            "35/35 [==============================] - 0s 4ms/step - loss: 0.3619 - accuracy: 0.8343 - val_loss: 0.5221 - val_accuracy: 0.7471\n",
            "Epoch 146/150\n",
            "35/35 [==============================] - 0s 5ms/step - loss: 0.3604 - accuracy: 0.8372 - val_loss: 0.5225 - val_accuracy: 0.7471\n",
            "Epoch 147/150\n",
            "35/35 [==============================] - 0s 6ms/step - loss: 0.3594 - accuracy: 0.8459 - val_loss: 0.5212 - val_accuracy: 0.7471\n",
            "Epoch 148/150\n",
            "35/35 [==============================] - 0s 4ms/step - loss: 0.3596 - accuracy: 0.8430 - val_loss: 0.5205 - val_accuracy: 0.7471\n",
            "Epoch 149/150\n",
            "35/35 [==============================] - 0s 3ms/step - loss: 0.3605 - accuracy: 0.8372 - val_loss: 0.5204 - val_accuracy: 0.7471\n",
            "Epoch 150/150\n",
            "35/35 [==============================] - 0s 4ms/step - loss: 0.3601 - accuracy: 0.8372 - val_loss: 0.5222 - val_accuracy: 0.7471\n"
          ]
        }
      ],
      "source": [
        "# אימון המודל בעזרת מאגר הנתונים\n",
        "\n",
        "history = model.fit(X_train, y_train, validation_split=0.33, epochs=150, batch_size=10)\n",
        "\n",
        "# משתנה ההיסטוריה, מכיל בתוכו מידע לגבי אימוני המודל לאורך הדורות"
      ]
    },
    {
      "cell_type": "markdown",
      "source": [
        "## 5. הערכת המודל"
      ],
      "metadata": {
        "id": "6h-DGwFDXZkO"
      }
    },
    {
      "cell_type": "code",
      "source": [
        "#הערכת מודל הקראס בזמן האימון\n",
        "_, accuracy = model.evaluate(X_train, y_train)\n",
        "print('Accuracy: %.2f' % (accuracy*100))"
      ],
      "metadata": {
        "id": "SPgOa-GJXcKt",
        "colab": {
          "base_uri": "https://localhost:8080/"
        },
        "outputId": "4494d5a7-5e6e-4251-913b-2969909e0774"
      },
      "execution_count": 42,
      "outputs": [
        {
          "output_type": "stream",
          "name": "stdout",
          "text": [
            "17/17 [==============================] - 0s 2ms/step - loss: 0.4108 - accuracy: 0.8171\n",
            "Accuracy: 81.71\n"
          ]
        }
      ]
    },
    {
      "cell_type": "markdown",
      "source": [
        "## 6. הניסיון לחזות תוצאות "
      ],
      "metadata": {
        "id": "H3FX7XKeXlf7"
      }
    },
    {
      "cell_type": "code",
      "source": [
        "# מחזיק בתוכו מידע לגבי הערכת המודל בהינתן נתוני הטסט\n",
        "predictions = np.argmax(model.predict(X_test), axis=-1)\n",
        "\n",
        "#בדיקת ההצלחה עבור N המקרים הראשונה\n",
        "n = 5\n",
        "for i in range(n):\n",
        "    print('%s => %d (expected %d)' % (X_test[i].tolist(), predictions[i], y[i]))"
      ],
      "metadata": {
        "id": "fCvNnOqEXq4R",
        "colab": {
          "base_uri": "https://localhost:8080/"
        },
        "outputId": "5cf76f82-1fc6-49ac-e38c-f219e10bf50f"
      },
      "execution_count": 43,
      "outputs": [
        {
          "output_type": "stream",
          "name": "stdout",
          "text": [
            "[0.6399472601593618, -0.7165334717264664, -0.5741277459136239, 0.7818138030884967, 0.956859653030945, 0.2547804694892943, -0.1264714020604746, 0.8303811324799336] => 0 (expected 1)\n",
            "[-0.5479185907225473, -0.2783734371474431, 0.30473400231574344, 0.7190857419965655, -0.6928905722954664, 0.47054318659717476, -0.9781448690748636, -1.0415494364835027] => 0 (expected 0)\n",
            "[-0.5479185907225473, -0.4035620184557355, -0.2639412465385531, -1.2882122129452327, -0.6928905722954664, -0.1513611156549505, -0.9479436823013037, -1.0415494364835027] => 0 (expected 1)\n",
            "[1.233880185600316, -0.4348591637828086, 0.5632227517949692, -1.2882122129452327, -0.6928905722954664, -0.9382604368719248, 1.1600991544931767, 0.06459135426761878] => 0 (expected 0)\n",
            "[0.9369137228798391, 0.4727580507023112, 1.0802002507534205, -1.2882122129452327, -0.6928905722954664, -0.26558843647676966, -0.7908975110787921, 1.4259954044228451] => 0 (expected 1)\n"
          ]
        }
      ]
    },
    {
      "cell_type": "code",
      "execution_count": 44,
      "metadata": {
        "id": "ID7E3r8MbR_q",
        "outputId": "73549238-16db-4b13-924a-4c374f5328ad",
        "colab": {
          "base_uri": "https://localhost:8080/"
        }
      },
      "outputs": [
        {
          "output_type": "execute_result",
          "data": {
            "text/plain": [
              "0.7440944881889764"
            ]
          },
          "metadata": {},
          "execution_count": 44
        }
      ],
      "source": [
        "#שיעור פונקציית הדיוק\n",
        "y_pred = model.predict(X_test)\n",
        "\n",
        "y_pred = np.argmax(y_pred, axis=1) \n",
        "\n",
        "accuracy_score(y_test, y_pred)"
      ]
    },
    {
      "cell_type": "code",
      "execution_count": 45,
      "metadata": {
        "id": "OWkjhNxrbR_r",
        "outputId": "a9f18a21-9ee2-4734-d792-f69ffa7212e4",
        "colab": {
          "base_uri": "https://localhost:8080/"
        }
      },
      "outputs": [
        {
          "output_type": "stream",
          "name": "stdout",
          "text": [
            "['loss', 'accuracy']\n"
          ]
        }
      ],
      "source": [
        "#הדפסת מטריצת המודל, דיוק כנגד הפסד\n",
        "print(model.metrics_names)"
      ]
    },
    {
      "cell_type": "markdown",
      "metadata": {
        "id": "P043hUHGbR_r"
      },
      "source": [
        "אחד מן האובייקטים היעילים והבסיסיים ביותר אשר משתמשים \n",
        "בהם בעת אימון מודל למיקה עמוקה היא פונקציית ההיסטוריה\n",
        "\n",
        "זו מתעדת את מטריצות האימון של כל דור, אלו מכילות מידע \n",
        "בנוגע להפסד ולדיוק של הפונקציה בכל דור\n",
        "\n",
        "אובייקט ההיסטוריה מוחזר בעת הקריאה לפונקציית האימון והמטריצות שלו מאוחסנות בדיקצ'נרי הנ\"ל (מבנה הנתונים)"
      ]
    },
    {
      "cell_type": "code",
      "execution_count": 46,
      "metadata": {
        "id": "ujGJ-SlXbR_r",
        "outputId": "e7de12f4-44e8-4d0e-d32b-5d20b9993325",
        "colab": {
          "base_uri": "https://localhost:8080/"
        }
      },
      "outputs": [
        {
          "output_type": "stream",
          "name": "stdout",
          "text": [
            "dict_keys(['loss', 'accuracy', 'val_loss', 'val_accuracy'])\n"
          ]
        }
      ],
      "source": [
        "print(history.history.keys())"
      ]
    },
    {
      "cell_type": "markdown",
      "source": [
        "## 7. שרטוט גרפי הדיוק וההפסד\n",
        "\n",
        "לגרפי הדיוק וההפסד היכולת להדגים דברים יעילים במודל\n",
        " כגון\n",
        "\n",
        " * מהירות ההתכנסות שלו לאורך הדורות (השיפוע) \n",
        " * האם המודל אומן יתר על המידה (ירידה של הגרף) \n",
        " * עד כמה המודל מדויק"
      ],
      "metadata": {
        "id": "zUJzCUvfZ2g6"
      }
    },
    {
      "cell_type": "code",
      "execution_count": 47,
      "metadata": {
        "id": "FUKtsIBLbR_t",
        "outputId": "d71aa6cd-5d1f-427c-a1a3-ccf1db2a7a91",
        "colab": {
          "base_uri": "https://localhost:8080/",
          "height": 295
        }
      },
      "outputs": [
        {
          "output_type": "display_data",
          "data": {
            "text/plain": [
              "<Figure size 432x288 with 1 Axes>"
            ],
            "image/png": "[encoded data removed]"
          },
          "metadata": {
            "needs_background": "light"
          }
        }
      ],
      "source": [
        "#  סיכום ההיסטוריה עבור ההפסד\n",
        "plt.plot(history.history['loss'])\n",
        "plt.plot(history.history['val_loss'])\n",
        "plt.title('model loss')\n",
        "plt.ylabel('loss')\n",
        "plt.xlabel('epoch')\n",
        "plt.legend(['train', 'test'], loc='upper left')\n",
        "plt.show()"
      ]
    },
    {
      "cell_type": "code",
      "execution_count": 48,
      "metadata": {
        "colab": {
          "base_uri": "https://localhost:8080/",
          "height": 295
        },
        "id": "KGkmh3DubR_t",
        "outputId": "c44c8a54-e46d-4c2c-f83c-a6f607d4a77e"
      },
      "outputs": [
        {
          "output_type": "display_data",
          "data": {
            "text/plain": [
              "<Figure size 432x288 with 1 Axes>"
            ],
            "image/png": "[encoded data removed]"
          },
          "metadata": {
            "needs_background": "light"
          }
        }
      ],
      "source": [
        "# סיכום ההיסטוריה עבור הדיוק\n",
        "plt.plot(history.history['accuracy'])\n",
        "plt.plot(history.history['val_accuracy'])\n",
        "plt.title('model accuracy')\n",
        "plt.ylabel('accuracy')\n",
        "plt.xlabel('epoch')\n",
        "plt.legend(['train', 'test'], loc='upper left')\n",
        "plt.show()"
      ]
    },
    {
      "cell_type": "markdown",
      "source": [
        "# מידע נוסף על העבודה ניתן למצוא פה:\n",
        "https://github.com/OzKedem/NeuralNetDiabetes"
      ],
      "metadata": {
        "id": "PvWzyg3XbKIy"
      }
    }
  ]
}