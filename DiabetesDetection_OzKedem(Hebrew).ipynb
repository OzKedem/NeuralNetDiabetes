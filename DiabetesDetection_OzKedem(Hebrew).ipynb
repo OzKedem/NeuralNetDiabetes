{
  "nbformat": 4,
  "nbformat_minor": 0,
  "metadata": {
    "colab": {
      "name": "DiabetesDetection_OzKedem(Hebrew).ipynb",
      "provenance": [],
      "authorship_tag": "ABX9TyMXIwC5sHiqm4OW7Gs3WxsI",
      "include_colab_link": true
    },
    "kernelspec": {
      "name": "python3",
      "display_name": "Python 3"
    },
    "language_info": {
      "name": "python"
    }
  },
  "cells": [
    {
      "cell_type": "markdown",
      "metadata": {
        "id": "view-in-github",
        "colab_type": "text"
      },
      "source": [
        "<a href=\"https://colab.research.google.com/github/OzKedem/NeuralNetDiabetes/blob/master/DiabetesDetection_OzKedem(Hebrew).ipynb\" target=\"_parent\"><img src=\"https://colab.research.google.com/assets/colab-badge.svg\" alt=\"Open In Colab\"/></a>"
      ]
    },
    {
      "cell_type": "markdown",
      "source": [
        "# פרויקט למידה עמוקה - עוז קדם - חיזוי מחלת הסוכרת "
      ],
      "metadata": {
        "id": "0ueFqiyQNedI"
      }
    },
    {
      "cell_type": "markdown",
      "source": [
        "עבודה זו עליה אני עובד במסגרת פרויקט 5 יחידות במקצוע מדעי המחשב מנסה ליצור רשת נוירונים אשר מסוגלת לחזות במהירות ודיוק גבוה ככל שניתן האם אדם חולה בסוכרת סוג 2\n",
        "\n",
        "מידע נוסף על העבודה ניתן למצוא פה: \n",
        "https://github.com/OzKedem/NeuralNetDiabetes"
      ],
      "metadata": {
        "id": "9kCNIPYUMz1-"
      }
    },
    {
      "cell_type": "markdown",
      "source": [
        "## ייבוא הספריות הנחוצות לנו"
      ],
      "metadata": {
        "id": "7cpws7XcOBYr"
      }
    },
    {
      "cell_type": "code",
      "execution_count": 49,
      "metadata": {
        "id": "yu4RXgK9INGx"
      },
      "outputs": [],
      "source": [
        "#ראשית , ניבא את הספריות הנחוצות לנו \n",
        "from numpy import loadtxt\n",
        "from keras.models import Sequential\n",
        "from keras.layers import Dense\n",
        "from keras.utils import np_utils\n",
        "import pandas as pd\n",
        "import numpy as np\n",
        "import matplotlib.pyplot as plt\n",
        "from sklearn.preprocessing import scale\n",
        "from sklearn.metrics import accuracy_score\n",
        "from sklearn.model_selection import train_test_split"
      ]
    },
    {
      "cell_type": "markdown",
      "source": [
        "#1. טעינת מאגר המידע\n",
        "\n"
      ],
      "metadata": {
        "id": "Vu1pjcnOIUO3"
      }
    },
    {
      "cell_type": "markdown",
      "source": [
        "יש לשים לב כי העלתם את מאגר המידע ושאכן הוא נמצא בתוך הגוגל קולאב"
      ],
      "metadata": {
        "id": "WTSG-CjwOT6w"
      }
    },
    {
      "cell_type": "markdown",
      "source": [
        "\n",
        "כל הנתונים במאגר הם מספריים\n",
        "\n",
        "\n",
        "לכן אני משתמש בפונקציית טעינת הטקסט של נאמפיי בבטחה\n",
        "\n",
        "`loadtxt()`\n",
        "\n",
        "\n",
        "בטבלה יש שמונה משתני אינפוט ומשתנה אווטפוט יחיד\n",
        "טורים 0-7 אינפוט\n",
        "טור 8 - אווטפוט\n",
        "\n",
        " : המשתנים מסודרים כדלקמן\n",
        "\n",
        "<b>משתני אינפוט (X):</b>\n",
        "\n",
        "0. מספר ההריונות\n",
        "1. ריכוז הגלוקוז בדם לאחר בדיקת סבילות גלוקוז אוראלית הלוקחת כשעתיים\n",
        "2. לחץ דם דיאסטולי\n",
        "3. עובי העור מעל שריר הטרייספ\n",
        "4. ריכוז האינסולין בדם לאחר בדיקת סבילות אינסולין הלוקחת כשעתיים\n",
        "5. BMI (W/H^2) - W [KG] , H [m]\n",
        "6. פונקציית הסיכוי הגנטית לחלות בסוכרת \n",
        "7. גיל\n",
        "\n",
        "<b>משתני אווטפוט (Y):</b>\n",
        "\n",
        "8. מצב המטופל (0 או 1)\n",
        "\n",
        "\n"
      ],
      "metadata": {
        "id": "_DZ3dN8yOmZy"
      }
    },
    {
      "cell_type": "code",
      "execution_count": 50,
      "metadata": {
        "id": "0p5uzn7sbR_f"
      },
      "outputs": [],
      "source": [
        "#יצירת המערך הדו מימדי אשר מחזיק בתוכו את מאגר הנתונים\n",
        "dataset = loadtxt('/content/pima-indians-diabetes.csv', delimiter=',')"
      ]
    },
    {
      "cell_type": "code",
      "execution_count": 51,
      "metadata": {
        "id": "v47nM6LubR_i",
        "outputId": "7fbd2d7d-dc89-45c2-f5fe-11c96b33d76c",
        "colab": {
          "base_uri": "https://localhost:8080/"
        }
      },
      "outputs": [
        {
          "output_type": "execute_result",
          "data": {
            "text/plain": [
              "array([[  6.   , 148.   ,  72.   , ...,   0.627,  50.   ,   1.   ],\n",
              "       [  1.   ,  85.   ,  66.   , ...,   0.351,  31.   ,   0.   ],\n",
              "       [  8.   , 183.   ,  64.   , ...,   0.672,  32.   ,   1.   ],\n",
              "       ...,\n",
              "       [  5.   , 121.   ,  72.   , ...,   0.245,  30.   ,   0.   ],\n",
              "       [  1.   , 126.   ,  60.   , ...,   0.349,  47.   ,   1.   ],\n",
              "       [  1.   ,  93.   ,  70.   , ...,   0.315,  23.   ,   0.   ]])"
            ]
          },
          "metadata": {},
          "execution_count": 51
        }
      ],
      "source": [
        "dataset\n",
        "#מצורפת דוגמה לדרך בה הטבלה מיוצגת כמערך - "
      ]
    },
    {
      "cell_type": "code",
      "execution_count": 52,
      "metadata": {
        "id": "odtjOyPLbR_j"
      },
      "outputs": [],
      "source": [
        "# פיצול משתני האינפוט - איקס והאווטפוט ווי. \n",
        "X = dataset[:,0:8]\n",
        "y = dataset[:,8]"
      ]
    },
    {
      "cell_type": "code",
      "execution_count": 53,
      "metadata": {
        "colab": {
          "base_uri": "https://localhost:8080/"
        },
        "id": "XYeOAxiRbR_k",
        "outputId": "6125d600-d7eb-4095-8d50-fed990473e1e"
      },
      "outputs": [
        {
          "output_type": "stream",
          "name": "stdout",
          "text": [
            "Scaled_X:\n",
            " [[ 0.63994726  0.84832379  0.14964075 ...  0.20401277  0.46849198\n",
            "   1.4259954 ]\n",
            " [-0.84488505 -1.12339636 -0.16054575 ... -0.68442195 -0.36506078\n",
            "  -0.19067191]\n",
            " [ 1.23388019  1.94372388 -0.26394125 ... -1.10325546  0.60439732\n",
            "  -0.10558415]\n",
            " ...\n",
            " [ 0.3429808   0.00330087  0.14964075 ... -0.73518964 -0.68519336\n",
            "  -0.27575966]\n",
            " [-0.84488505  0.1597866  -0.47073225 ... -0.24020459 -0.37110101\n",
            "   1.17073215]\n",
            " [-0.84488505 -0.8730192   0.04624525 ... -0.20212881 -0.47378505\n",
            "  -0.87137393]]\n"
          ]
        }
      ],
      "source": [
        "#ביצוע סקיילינג לנתוני האינפוט\n",
        "X_scaled = scale(X) \n",
        "print('Scaled_X:\\n', X_scaled)"
      ]
    },
    {
      "cell_type": "code",
      "execution_count": 54,
      "metadata": {
        "id": "csls-3JrbR_l"
      },
      "outputs": [],
      "source": [
        "# פיצול הנתונים לסט אימון וסט טסטינג\n",
        "X_train, X_test, y_train, y_test = train_test_split(X_scaled, y, test_size=0.33, random_state=42)"
      ]
    },
    {
      "cell_type": "code",
      "source": [
        "# הופך מערך מספרים לכדי מטריצה\n",
        "y_train = np_utils.to_categorical(y_train)\n",
        "\n",
        "print('Y_Train Encoded:\\n', y_train)"
      ],
      "metadata": {
        "id": "SZXE6dYnccOc",
        "colab": {
          "base_uri": "https://localhost:8080/"
        },
        "outputId": "4cd8c339-9d6a-48cd-e198-e64712975c9c"
      },
      "execution_count": 55,
      "outputs": [
        {
          "output_type": "stream",
          "name": "stdout",
          "text": [
            "Y_Train Encoded:\n",
            " [[1. 0.]\n",
            " [1. 0.]\n",
            " [1. 0.]\n",
            " ...\n",
            " [0. 1.]\n",
            " [0. 1.]\n",
            " [1. 0.]]\n"
          ]
        }
      ]
    },
    {
      "cell_type": "markdown",
      "source": [
        "## 2. הגדרת המודל"
      ],
      "metadata": {
        "id": "0jx7k_gKVch3"
      }
    },
    {
      "cell_type": "markdown",
      "source": [
        "* ארכיטקטורת המודל\n",
        " * 3 שכבות\n",
        " * 22 נוירונים\n",
        " * פונקציות הפעלה - סיגמואיד, רלו וליקי רלו\n",
        " * פונקציית אופטימיזציה - אדם\n",
        " * פונקציית ההפסד - אנטרופיה בינארית מוצלבת\n",
        "\n"
      ],
      "metadata": {
        "id": "rlO50DDzVxns"
      }
    },
    {
      "cell_type": "code",
      "execution_count": 56,
      "metadata": {
        "id": "c1IkLgSjbR_n"
      },
      "outputs": [],
      "source": [
        "# הגדרת המודל בעזרת קראס\n",
        "model = Sequential()\n",
        "model.add(Dense(12, input_dim=8, activation='LeakyReLU'))\n",
        "model.add(Dense(8, activation='ReLU'))\n",
        "model.add(Dense(2, activation='sigmoid'))"
      ]
    },
    {
      "cell_type": "markdown",
      "source": [
        "## 3. קומפילציית המודל"
      ],
      "metadata": {
        "id": "yHfJfeD1Wqjf"
      }
    },
    {
      "cell_type": "code",
      "source": [
        "# קומפליצית מודל הקראס\n",
        "model.compile(loss='binary_crossentropy', optimizer='adam', metrics=['accuracy'])"
      ],
      "metadata": {
        "id": "35zF8UWxW-AD"
      },
      "execution_count": 57,
      "outputs": []
    },
    {
      "cell_type": "markdown",
      "source": [
        "## 4. אימון המודל"
      ],
      "metadata": {
        "id": "lSITR_Y5XFR5"
      }
    },
    {
      "cell_type": "markdown",
      "source": [
        ""
      ],
      "metadata": {
        "id": "-7o4PVLkXHpx"
      }
    },
    {
      "cell_type": "code",
      "execution_count": 58,
      "metadata": {
        "id": "SzAzRmvsbR_o",
        "outputId": "bd2ed45a-4cc3-4a9e-def3-9488d45b8ef6",
        "colab": {
          "base_uri": "https://localhost:8080/"
        }
      },
      "outputs": [
        {
          "output_type": "stream",
          "name": "stdout",
          "text": [
            "Epoch 1/150\n",
            "35/35 [==============================] - 2s 14ms/step - loss: 0.8027 - accuracy: 0.3081 - val_loss: 0.7523 - val_accuracy: 0.4412\n",
            "Epoch 2/150\n",
            "35/35 [==============================] - 0s 6ms/step - loss: 0.7323 - accuracy: 0.4826 - val_loss: 0.7064 - val_accuracy: 0.5706\n",
            "Epoch 3/150\n",
            "35/35 [==============================] - 0s 6ms/step - loss: 0.6905 - accuracy: 0.5494 - val_loss: 0.6784 - val_accuracy: 0.6294\n",
            "Epoch 4/150\n",
            "35/35 [==============================] - 0s 6ms/step - loss: 0.6623 - accuracy: 0.5930 - val_loss: 0.6577 - val_accuracy: 0.6588\n",
            "Epoch 5/150\n",
            "35/35 [==============================] - 0s 6ms/step - loss: 0.6390 - accuracy: 0.6221 - val_loss: 0.6386 - val_accuracy: 0.6588\n",
            "Epoch 6/150\n",
            "35/35 [==============================] - 0s 8ms/step - loss: 0.6178 - accuracy: 0.6395 - val_loss: 0.6203 - val_accuracy: 0.6647\n",
            "Epoch 7/150\n",
            "35/35 [==============================] - 0s 9ms/step - loss: 0.5975 - accuracy: 0.6599 - val_loss: 0.6038 - val_accuracy: 0.6706\n",
            "Epoch 8/150\n",
            "35/35 [==============================] - 0s 9ms/step - loss: 0.5801 - accuracy: 0.6599 - val_loss: 0.5861 - val_accuracy: 0.6765\n",
            "Epoch 9/150\n",
            "35/35 [==============================] - 0s 7ms/step - loss: 0.5624 - accuracy: 0.6628 - val_loss: 0.5732 - val_accuracy: 0.6882\n",
            "Epoch 10/150\n",
            "35/35 [==============================] - 0s 7ms/step - loss: 0.5488 - accuracy: 0.6715 - val_loss: 0.5620 - val_accuracy: 0.6824\n",
            "Epoch 11/150\n",
            "35/35 [==============================] - 0s 9ms/step - loss: 0.5367 - accuracy: 0.6890 - val_loss: 0.5522 - val_accuracy: 0.7000\n",
            "Epoch 12/150\n",
            "35/35 [==============================] - 0s 7ms/step - loss: 0.5265 - accuracy: 0.7064 - val_loss: 0.5438 - val_accuracy: 0.6941\n",
            "Epoch 13/150\n",
            "35/35 [==============================] - 0s 6ms/step - loss: 0.5193 - accuracy: 0.7209 - val_loss: 0.5351 - val_accuracy: 0.6765\n",
            "Epoch 14/150\n",
            "35/35 [==============================] - 0s 5ms/step - loss: 0.5123 - accuracy: 0.7238 - val_loss: 0.5276 - val_accuracy: 0.6882\n",
            "Epoch 15/150\n",
            "35/35 [==============================] - 0s 5ms/step - loss: 0.5058 - accuracy: 0.7326 - val_loss: 0.5223 - val_accuracy: 0.7118\n",
            "Epoch 16/150\n",
            "35/35 [==============================] - 0s 6ms/step - loss: 0.4995 - accuracy: 0.7442 - val_loss: 0.5163 - val_accuracy: 0.7176\n",
            "Epoch 17/150\n",
            "35/35 [==============================] - 0s 6ms/step - loss: 0.4937 - accuracy: 0.7645 - val_loss: 0.5101 - val_accuracy: 0.7235\n",
            "Epoch 18/150\n",
            "35/35 [==============================] - 0s 5ms/step - loss: 0.4883 - accuracy: 0.7674 - val_loss: 0.5050 - val_accuracy: 0.7176\n",
            "Epoch 19/150\n",
            "35/35 [==============================] - 0s 5ms/step - loss: 0.4828 - accuracy: 0.7849 - val_loss: 0.4989 - val_accuracy: 0.7294\n",
            "Epoch 20/150\n",
            "35/35 [==============================] - 0s 6ms/step - loss: 0.4765 - accuracy: 0.7907 - val_loss: 0.4949 - val_accuracy: 0.7353\n",
            "Epoch 21/150\n",
            "35/35 [==============================] - 0s 5ms/step - loss: 0.4699 - accuracy: 0.7936 - val_loss: 0.4910 - val_accuracy: 0.7412\n",
            "Epoch 22/150\n",
            "35/35 [==============================] - 0s 8ms/step - loss: 0.4641 - accuracy: 0.7907 - val_loss: 0.4859 - val_accuracy: 0.7353\n",
            "Epoch 23/150\n",
            "35/35 [==============================] - 0s 10ms/step - loss: 0.4587 - accuracy: 0.7878 - val_loss: 0.4813 - val_accuracy: 0.7353\n",
            "Epoch 24/150\n",
            "35/35 [==============================] - 0s 11ms/step - loss: 0.4531 - accuracy: 0.7936 - val_loss: 0.4782 - val_accuracy: 0.7353\n",
            "Epoch 25/150\n",
            "35/35 [==============================] - 0s 7ms/step - loss: 0.4487 - accuracy: 0.7907 - val_loss: 0.4755 - val_accuracy: 0.7529\n",
            "Epoch 26/150\n",
            "35/35 [==============================] - 0s 8ms/step - loss: 0.4455 - accuracy: 0.7965 - val_loss: 0.4730 - val_accuracy: 0.7471\n",
            "Epoch 27/150\n",
            "35/35 [==============================] - 0s 9ms/step - loss: 0.4416 - accuracy: 0.7965 - val_loss: 0.4712 - val_accuracy: 0.7471\n",
            "Epoch 28/150\n",
            "35/35 [==============================] - 0s 8ms/step - loss: 0.4387 - accuracy: 0.7878 - val_loss: 0.4700 - val_accuracy: 0.7529\n",
            "Epoch 29/150\n",
            "35/35 [==============================] - 0s 13ms/step - loss: 0.4364 - accuracy: 0.7907 - val_loss: 0.4687 - val_accuracy: 0.7588\n",
            "Epoch 30/150\n",
            "35/35 [==============================] - 0s 5ms/step - loss: 0.4341 - accuracy: 0.7936 - val_loss: 0.4681 - val_accuracy: 0.7647\n",
            "Epoch 31/150\n",
            "35/35 [==============================] - 0s 3ms/step - loss: 0.4327 - accuracy: 0.7907 - val_loss: 0.4682 - val_accuracy: 0.7529\n",
            "Epoch 32/150\n",
            "35/35 [==============================] - 0s 3ms/step - loss: 0.4292 - accuracy: 0.7907 - val_loss: 0.4680 - val_accuracy: 0.7706\n",
            "Epoch 33/150\n",
            "35/35 [==============================] - 0s 4ms/step - loss: 0.4276 - accuracy: 0.7994 - val_loss: 0.4667 - val_accuracy: 0.7647\n",
            "Epoch 34/150\n",
            "35/35 [==============================] - 0s 4ms/step - loss: 0.4263 - accuracy: 0.7936 - val_loss: 0.4667 - val_accuracy: 0.7647\n",
            "Epoch 35/150\n",
            "35/35 [==============================] - 0s 4ms/step - loss: 0.4255 - accuracy: 0.7907 - val_loss: 0.4671 - val_accuracy: 0.7588\n",
            "Epoch 36/150\n",
            "35/35 [==============================] - 0s 3ms/step - loss: 0.4230 - accuracy: 0.7965 - val_loss: 0.4674 - val_accuracy: 0.7588\n",
            "Epoch 37/150\n",
            "35/35 [==============================] - 0s 4ms/step - loss: 0.4216 - accuracy: 0.8023 - val_loss: 0.4673 - val_accuracy: 0.7588\n",
            "Epoch 38/150\n",
            "35/35 [==============================] - 0s 4ms/step - loss: 0.4198 - accuracy: 0.7994 - val_loss: 0.4668 - val_accuracy: 0.7588\n",
            "Epoch 39/150\n",
            "35/35 [==============================] - 0s 3ms/step - loss: 0.4196 - accuracy: 0.8081 - val_loss: 0.4682 - val_accuracy: 0.7588\n",
            "Epoch 40/150\n",
            "35/35 [==============================] - 0s 3ms/step - loss: 0.4173 - accuracy: 0.7994 - val_loss: 0.4671 - val_accuracy: 0.7588\n",
            "Epoch 41/150\n",
            "35/35 [==============================] - 0s 3ms/step - loss: 0.4166 - accuracy: 0.7965 - val_loss: 0.4671 - val_accuracy: 0.7588\n",
            "Epoch 42/150\n",
            "35/35 [==============================] - 0s 3ms/step - loss: 0.4154 - accuracy: 0.7936 - val_loss: 0.4686 - val_accuracy: 0.7588\n",
            "Epoch 43/150\n",
            "35/35 [==============================] - 0s 3ms/step - loss: 0.4142 - accuracy: 0.8023 - val_loss: 0.4688 - val_accuracy: 0.7588\n",
            "Epoch 44/150\n",
            "35/35 [==============================] - 0s 3ms/step - loss: 0.4143 - accuracy: 0.8052 - val_loss: 0.4672 - val_accuracy: 0.7588\n",
            "Epoch 45/150\n",
            "35/35 [==============================] - 0s 3ms/step - loss: 0.4135 - accuracy: 0.7994 - val_loss: 0.4680 - val_accuracy: 0.7588\n",
            "Epoch 46/150\n",
            "35/35 [==============================] - 0s 3ms/step - loss: 0.4107 - accuracy: 0.8052 - val_loss: 0.4685 - val_accuracy: 0.7588\n",
            "Epoch 47/150\n",
            "35/35 [==============================] - 0s 3ms/step - loss: 0.4104 - accuracy: 0.8052 - val_loss: 0.4669 - val_accuracy: 0.7588\n",
            "Epoch 48/150\n",
            "35/35 [==============================] - 0s 3ms/step - loss: 0.4089 - accuracy: 0.8052 - val_loss: 0.4670 - val_accuracy: 0.7588\n",
            "Epoch 49/150\n",
            "35/35 [==============================] - 0s 3ms/step - loss: 0.4076 - accuracy: 0.8052 - val_loss: 0.4685 - val_accuracy: 0.7588\n",
            "Epoch 50/150\n",
            "35/35 [==============================] - 0s 4ms/step - loss: 0.4075 - accuracy: 0.8110 - val_loss: 0.4678 - val_accuracy: 0.7588\n",
            "Epoch 51/150\n",
            "35/35 [==============================] - 0s 3ms/step - loss: 0.4062 - accuracy: 0.8023 - val_loss: 0.4685 - val_accuracy: 0.7588\n",
            "Epoch 52/150\n",
            "35/35 [==============================] - 0s 4ms/step - loss: 0.4056 - accuracy: 0.8110 - val_loss: 0.4694 - val_accuracy: 0.7588\n",
            "Epoch 53/150\n",
            "35/35 [==============================] - 0s 4ms/step - loss: 0.4044 - accuracy: 0.8110 - val_loss: 0.4678 - val_accuracy: 0.7588\n",
            "Epoch 54/150\n",
            "35/35 [==============================] - 0s 4ms/step - loss: 0.4040 - accuracy: 0.8081 - val_loss: 0.4686 - val_accuracy: 0.7588\n",
            "Epoch 55/150\n",
            "35/35 [==============================] - 0s 5ms/step - loss: 0.4034 - accuracy: 0.8110 - val_loss: 0.4690 - val_accuracy: 0.7588\n",
            "Epoch 56/150\n",
            "35/35 [==============================] - 0s 4ms/step - loss: 0.4020 - accuracy: 0.8110 - val_loss: 0.4687 - val_accuracy: 0.7588\n",
            "Epoch 57/150\n",
            "35/35 [==============================] - 0s 3ms/step - loss: 0.4014 - accuracy: 0.8081 - val_loss: 0.4682 - val_accuracy: 0.7588\n",
            "Epoch 58/150\n",
            "35/35 [==============================] - 0s 3ms/step - loss: 0.4007 - accuracy: 0.8081 - val_loss: 0.4707 - val_accuracy: 0.7588\n",
            "Epoch 59/150\n",
            "35/35 [==============================] - 0s 4ms/step - loss: 0.3996 - accuracy: 0.8140 - val_loss: 0.4690 - val_accuracy: 0.7588\n",
            "Epoch 60/150\n",
            "35/35 [==============================] - 0s 4ms/step - loss: 0.4000 - accuracy: 0.8110 - val_loss: 0.4692 - val_accuracy: 0.7588\n",
            "Epoch 61/150\n",
            "35/35 [==============================] - 0s 3ms/step - loss: 0.4007 - accuracy: 0.8052 - val_loss: 0.4706 - val_accuracy: 0.7588\n",
            "Epoch 62/150\n",
            "35/35 [==============================] - 0s 3ms/step - loss: 0.3992 - accuracy: 0.7994 - val_loss: 0.4691 - val_accuracy: 0.7588\n",
            "Epoch 63/150\n",
            "35/35 [==============================] - 0s 4ms/step - loss: 0.3977 - accuracy: 0.8110 - val_loss: 0.4696 - val_accuracy: 0.7588\n",
            "Epoch 64/150\n",
            "35/35 [==============================] - 0s 3ms/step - loss: 0.3965 - accuracy: 0.8081 - val_loss: 0.4704 - val_accuracy: 0.7588\n",
            "Epoch 65/150\n",
            "35/35 [==============================] - 0s 3ms/step - loss: 0.3960 - accuracy: 0.8110 - val_loss: 0.4709 - val_accuracy: 0.7529\n",
            "Epoch 66/150\n",
            "35/35 [==============================] - 0s 3ms/step - loss: 0.3959 - accuracy: 0.8052 - val_loss: 0.4714 - val_accuracy: 0.7647\n",
            "Epoch 67/150\n",
            "35/35 [==============================] - 0s 3ms/step - loss: 0.3940 - accuracy: 0.8110 - val_loss: 0.4715 - val_accuracy: 0.7529\n",
            "Epoch 68/150\n",
            "35/35 [==============================] - 0s 4ms/step - loss: 0.3945 - accuracy: 0.8081 - val_loss: 0.4726 - val_accuracy: 0.7588\n",
            "Epoch 69/150\n",
            "35/35 [==============================] - 0s 4ms/step - loss: 0.3933 - accuracy: 0.8081 - val_loss: 0.4729 - val_accuracy: 0.7588\n",
            "Epoch 70/150\n",
            "35/35 [==============================] - 0s 3ms/step - loss: 0.3934 - accuracy: 0.8081 - val_loss: 0.4724 - val_accuracy: 0.7647\n",
            "Epoch 71/150\n",
            "35/35 [==============================] - 0s 3ms/step - loss: 0.3929 - accuracy: 0.8081 - val_loss: 0.4735 - val_accuracy: 0.7588\n",
            "Epoch 72/150\n",
            "35/35 [==============================] - 0s 4ms/step - loss: 0.3915 - accuracy: 0.8081 - val_loss: 0.4735 - val_accuracy: 0.7588\n",
            "Epoch 73/150\n",
            "35/35 [==============================] - 0s 5ms/step - loss: 0.3915 - accuracy: 0.8052 - val_loss: 0.4745 - val_accuracy: 0.7588\n",
            "Epoch 74/150\n",
            "35/35 [==============================] - 0s 5ms/step - loss: 0.3907 - accuracy: 0.8023 - val_loss: 0.4762 - val_accuracy: 0.7588\n",
            "Epoch 75/150\n",
            "35/35 [==============================] - 0s 4ms/step - loss: 0.3908 - accuracy: 0.8052 - val_loss: 0.4748 - val_accuracy: 0.7588\n",
            "Epoch 76/150\n",
            "35/35 [==============================] - 0s 5ms/step - loss: 0.3905 - accuracy: 0.8081 - val_loss: 0.4752 - val_accuracy: 0.7529\n",
            "Epoch 77/150\n",
            "35/35 [==============================] - 0s 3ms/step - loss: 0.3891 - accuracy: 0.8081 - val_loss: 0.4759 - val_accuracy: 0.7529\n",
            "Epoch 78/150\n",
            "35/35 [==============================] - 0s 3ms/step - loss: 0.3886 - accuracy: 0.8081 - val_loss: 0.4749 - val_accuracy: 0.7588\n",
            "Epoch 79/150\n",
            "35/35 [==============================] - 0s 3ms/step - loss: 0.3889 - accuracy: 0.8052 - val_loss: 0.4751 - val_accuracy: 0.7529\n",
            "Epoch 80/150\n",
            "35/35 [==============================] - 0s 3ms/step - loss: 0.3888 - accuracy: 0.8052 - val_loss: 0.4769 - val_accuracy: 0.7588\n",
            "Epoch 81/150\n",
            "35/35 [==============================] - 0s 4ms/step - loss: 0.3864 - accuracy: 0.8110 - val_loss: 0.4749 - val_accuracy: 0.7529\n",
            "Epoch 82/150\n",
            "35/35 [==============================] - 0s 3ms/step - loss: 0.3864 - accuracy: 0.8081 - val_loss: 0.4743 - val_accuracy: 0.7529\n",
            "Epoch 83/150\n",
            "35/35 [==============================] - 0s 3ms/step - loss: 0.3859 - accuracy: 0.8110 - val_loss: 0.4780 - val_accuracy: 0.7471\n",
            "Epoch 84/150\n",
            "35/35 [==============================] - 0s 3ms/step - loss: 0.3849 - accuracy: 0.8081 - val_loss: 0.4758 - val_accuracy: 0.7471\n",
            "Epoch 85/150\n",
            "35/35 [==============================] - 0s 3ms/step - loss: 0.3849 - accuracy: 0.8140 - val_loss: 0.4776 - val_accuracy: 0.7471\n",
            "Epoch 86/150\n",
            "35/35 [==============================] - 0s 4ms/step - loss: 0.3848 - accuracy: 0.8110 - val_loss: 0.4772 - val_accuracy: 0.7471\n",
            "Epoch 87/150\n",
            "35/35 [==============================] - 0s 3ms/step - loss: 0.3856 - accuracy: 0.8140 - val_loss: 0.4783 - val_accuracy: 0.7412\n",
            "Epoch 88/150\n",
            "35/35 [==============================] - 0s 3ms/step - loss: 0.3833 - accuracy: 0.8140 - val_loss: 0.4800 - val_accuracy: 0.7529\n",
            "Epoch 89/150\n",
            "35/35 [==============================] - 0s 3ms/step - loss: 0.3828 - accuracy: 0.8169 - val_loss: 0.4792 - val_accuracy: 0.7529\n",
            "Epoch 90/150\n",
            "35/35 [==============================] - 0s 4ms/step - loss: 0.3825 - accuracy: 0.8198 - val_loss: 0.4786 - val_accuracy: 0.7529\n",
            "Epoch 91/150\n",
            "35/35 [==============================] - 0s 3ms/step - loss: 0.3824 - accuracy: 0.8198 - val_loss: 0.4791 - val_accuracy: 0.7588\n",
            "Epoch 92/150\n",
            "35/35 [==============================] - 0s 3ms/step - loss: 0.3813 - accuracy: 0.8140 - val_loss: 0.4798 - val_accuracy: 0.7588\n",
            "Epoch 93/150\n",
            "35/35 [==============================] - 0s 3ms/step - loss: 0.3795 - accuracy: 0.8140 - val_loss: 0.4811 - val_accuracy: 0.7529\n",
            "Epoch 94/150\n",
            "35/35 [==============================] - 0s 3ms/step - loss: 0.3804 - accuracy: 0.8169 - val_loss: 0.4800 - val_accuracy: 0.7471\n",
            "Epoch 95/150\n",
            "35/35 [==============================] - 0s 3ms/step - loss: 0.3805 - accuracy: 0.8227 - val_loss: 0.4829 - val_accuracy: 0.7529\n",
            "Epoch 96/150\n",
            "35/35 [==============================] - 0s 3ms/step - loss: 0.3793 - accuracy: 0.8140 - val_loss: 0.4811 - val_accuracy: 0.7529\n",
            "Epoch 97/150\n",
            "35/35 [==============================] - 0s 3ms/step - loss: 0.3797 - accuracy: 0.8169 - val_loss: 0.4814 - val_accuracy: 0.7529\n",
            "Epoch 98/150\n",
            "35/35 [==============================] - 0s 3ms/step - loss: 0.3781 - accuracy: 0.8198 - val_loss: 0.4825 - val_accuracy: 0.7529\n",
            "Epoch 99/150\n",
            "35/35 [==============================] - 0s 3ms/step - loss: 0.3787 - accuracy: 0.8227 - val_loss: 0.4820 - val_accuracy: 0.7529\n",
            "Epoch 100/150\n",
            "35/35 [==============================] - 0s 3ms/step - loss: 0.3778 - accuracy: 0.8198 - val_loss: 0.4832 - val_accuracy: 0.7588\n",
            "Epoch 101/150\n",
            "35/35 [==============================] - 0s 4ms/step - loss: 0.3765 - accuracy: 0.8227 - val_loss: 0.4841 - val_accuracy: 0.7529\n",
            "Epoch 102/150\n",
            "35/35 [==============================] - 0s 3ms/step - loss: 0.3767 - accuracy: 0.8256 - val_loss: 0.4844 - val_accuracy: 0.7529\n",
            "Epoch 103/150\n",
            "35/35 [==============================] - 0s 3ms/step - loss: 0.3778 - accuracy: 0.8169 - val_loss: 0.4885 - val_accuracy: 0.7588\n",
            "Epoch 104/150\n",
            "35/35 [==============================] - 0s 3ms/step - loss: 0.3756 - accuracy: 0.8169 - val_loss: 0.4851 - val_accuracy: 0.7471\n",
            "Epoch 105/150\n",
            "35/35 [==============================] - 0s 3ms/step - loss: 0.3752 - accuracy: 0.8227 - val_loss: 0.4842 - val_accuracy: 0.7529\n",
            "Epoch 106/150\n",
            "35/35 [==============================] - 0s 4ms/step - loss: 0.3747 - accuracy: 0.8198 - val_loss: 0.4852 - val_accuracy: 0.7471\n",
            "Epoch 107/150\n",
            "35/35 [==============================] - 0s 3ms/step - loss: 0.3747 - accuracy: 0.8256 - val_loss: 0.4857 - val_accuracy: 0.7471\n",
            "Epoch 108/150\n",
            "35/35 [==============================] - 0s 3ms/step - loss: 0.3732 - accuracy: 0.8285 - val_loss: 0.4860 - val_accuracy: 0.7529\n",
            "Epoch 109/150\n",
            "35/35 [==============================] - 0s 4ms/step - loss: 0.3731 - accuracy: 0.8256 - val_loss: 0.4853 - val_accuracy: 0.7529\n",
            "Epoch 110/150\n",
            "35/35 [==============================] - 0s 3ms/step - loss: 0.3728 - accuracy: 0.8256 - val_loss: 0.4861 - val_accuracy: 0.7471\n",
            "Epoch 111/150\n",
            "35/35 [==============================] - 0s 3ms/step - loss: 0.3731 - accuracy: 0.8285 - val_loss: 0.4876 - val_accuracy: 0.7588\n",
            "Epoch 112/150\n",
            "35/35 [==============================] - 0s 3ms/step - loss: 0.3736 - accuracy: 0.8227 - val_loss: 0.4892 - val_accuracy: 0.7588\n",
            "Epoch 113/150\n",
            "35/35 [==============================] - 0s 3ms/step - loss: 0.3715 - accuracy: 0.8314 - val_loss: 0.4886 - val_accuracy: 0.7529\n",
            "Epoch 114/150\n",
            "35/35 [==============================] - 0s 3ms/step - loss: 0.3715 - accuracy: 0.8256 - val_loss: 0.4885 - val_accuracy: 0.7529\n",
            "Epoch 115/150\n",
            "35/35 [==============================] - 0s 4ms/step - loss: 0.3699 - accuracy: 0.8314 - val_loss: 0.4887 - val_accuracy: 0.7588\n",
            "Epoch 116/150\n",
            "35/35 [==============================] - 0s 3ms/step - loss: 0.3709 - accuracy: 0.8285 - val_loss: 0.4900 - val_accuracy: 0.7529\n",
            "Epoch 117/150\n",
            "35/35 [==============================] - 0s 3ms/step - loss: 0.3698 - accuracy: 0.8285 - val_loss: 0.4899 - val_accuracy: 0.7588\n",
            "Epoch 118/150\n",
            "35/35 [==============================] - 0s 3ms/step - loss: 0.3692 - accuracy: 0.8314 - val_loss: 0.4925 - val_accuracy: 0.7529\n",
            "Epoch 119/150\n",
            "35/35 [==============================] - 0s 3ms/step - loss: 0.3684 - accuracy: 0.8343 - val_loss: 0.4910 - val_accuracy: 0.7588\n",
            "Epoch 120/150\n",
            "35/35 [==============================] - 0s 3ms/step - loss: 0.3681 - accuracy: 0.8343 - val_loss: 0.4904 - val_accuracy: 0.7647\n",
            "Epoch 121/150\n",
            "35/35 [==============================] - 0s 5ms/step - loss: 0.3681 - accuracy: 0.8372 - val_loss: 0.4928 - val_accuracy: 0.7529\n",
            "Epoch 122/150\n",
            "35/35 [==============================] - 0s 4ms/step - loss: 0.3676 - accuracy: 0.8343 - val_loss: 0.4921 - val_accuracy: 0.7647\n",
            "Epoch 123/150\n",
            "35/35 [==============================] - 0s 5ms/step - loss: 0.3680 - accuracy: 0.8401 - val_loss: 0.4928 - val_accuracy: 0.7588\n",
            "Epoch 124/150\n",
            "35/35 [==============================] - 0s 5ms/step - loss: 0.3660 - accuracy: 0.8372 - val_loss: 0.4926 - val_accuracy: 0.7588\n",
            "Epoch 125/150\n",
            "35/35 [==============================] - 0s 4ms/step - loss: 0.3660 - accuracy: 0.8314 - val_loss: 0.4947 - val_accuracy: 0.7588\n",
            "Epoch 126/150\n",
            "35/35 [==============================] - 0s 5ms/step - loss: 0.3656 - accuracy: 0.8343 - val_loss: 0.4934 - val_accuracy: 0.7647\n",
            "Epoch 127/150\n",
            "35/35 [==============================] - 0s 5ms/step - loss: 0.3643 - accuracy: 0.8372 - val_loss: 0.4948 - val_accuracy: 0.7647\n",
            "Epoch 128/150\n",
            "35/35 [==============================] - 0s 5ms/step - loss: 0.3644 - accuracy: 0.8430 - val_loss: 0.4965 - val_accuracy: 0.7588\n",
            "Epoch 129/150\n",
            "35/35 [==============================] - 0s 3ms/step - loss: 0.3645 - accuracy: 0.8372 - val_loss: 0.4956 - val_accuracy: 0.7588\n",
            "Epoch 130/150\n",
            "35/35 [==============================] - 0s 3ms/step - loss: 0.3642 - accuracy: 0.8372 - val_loss: 0.4965 - val_accuracy: 0.7588\n",
            "Epoch 131/150\n",
            "35/35 [==============================] - 0s 4ms/step - loss: 0.3650 - accuracy: 0.8372 - val_loss: 0.4982 - val_accuracy: 0.7588\n",
            "Epoch 132/150\n",
            "35/35 [==============================] - 0s 4ms/step - loss: 0.3643 - accuracy: 0.8372 - val_loss: 0.4968 - val_accuracy: 0.7529\n",
            "Epoch 133/150\n",
            "35/35 [==============================] - 0s 3ms/step - loss: 0.3615 - accuracy: 0.8343 - val_loss: 0.4971 - val_accuracy: 0.7588\n",
            "Epoch 134/150\n",
            "35/35 [==============================] - 0s 5ms/step - loss: 0.3622 - accuracy: 0.8401 - val_loss: 0.4987 - val_accuracy: 0.7588\n",
            "Epoch 135/150\n",
            "35/35 [==============================] - 0s 5ms/step - loss: 0.3609 - accuracy: 0.8430 - val_loss: 0.4992 - val_accuracy: 0.7529\n",
            "Epoch 136/150\n",
            "35/35 [==============================] - 0s 3ms/step - loss: 0.3614 - accuracy: 0.8401 - val_loss: 0.4991 - val_accuracy: 0.7588\n",
            "Epoch 137/150\n",
            "35/35 [==============================] - 0s 5ms/step - loss: 0.3611 - accuracy: 0.8285 - val_loss: 0.4992 - val_accuracy: 0.7529\n",
            "Epoch 138/150\n",
            "35/35 [==============================] - 0s 3ms/step - loss: 0.3614 - accuracy: 0.8343 - val_loss: 0.4968 - val_accuracy: 0.7647\n",
            "Epoch 139/150\n",
            "35/35 [==============================] - 0s 4ms/step - loss: 0.3609 - accuracy: 0.8343 - val_loss: 0.5010 - val_accuracy: 0.7588\n",
            "Epoch 140/150\n",
            "35/35 [==============================] - 0s 4ms/step - loss: 0.3590 - accuracy: 0.8343 - val_loss: 0.5025 - val_accuracy: 0.7647\n",
            "Epoch 141/150\n",
            "35/35 [==============================] - 0s 3ms/step - loss: 0.3592 - accuracy: 0.8285 - val_loss: 0.4979 - val_accuracy: 0.7588\n",
            "Epoch 142/150\n",
            "35/35 [==============================] - 0s 3ms/step - loss: 0.3577 - accuracy: 0.8401 - val_loss: 0.4989 - val_accuracy: 0.7588\n",
            "Epoch 143/150\n",
            "35/35 [==============================] - 0s 3ms/step - loss: 0.3585 - accuracy: 0.8343 - val_loss: 0.5011 - val_accuracy: 0.7529\n",
            "Epoch 144/150\n",
            "35/35 [==============================] - 0s 3ms/step - loss: 0.3584 - accuracy: 0.8401 - val_loss: 0.4999 - val_accuracy: 0.7647\n",
            "Epoch 145/150\n",
            "35/35 [==============================] - 0s 3ms/step - loss: 0.3566 - accuracy: 0.8401 - val_loss: 0.5013 - val_accuracy: 0.7588\n",
            "Epoch 146/150\n",
            "35/35 [==============================] - 0s 3ms/step - loss: 0.3567 - accuracy: 0.8401 - val_loss: 0.5020 - val_accuracy: 0.7529\n",
            "Epoch 147/150\n",
            "35/35 [==============================] - 0s 4ms/step - loss: 0.3564 - accuracy: 0.8401 - val_loss: 0.5016 - val_accuracy: 0.7647\n",
            "Epoch 148/150\n",
            "35/35 [==============================] - 0s 3ms/step - loss: 0.3559 - accuracy: 0.8430 - val_loss: 0.5020 - val_accuracy: 0.7647\n",
            "Epoch 149/150\n",
            "35/35 [==============================] - 0s 3ms/step - loss: 0.3559 - accuracy: 0.8372 - val_loss: 0.4993 - val_accuracy: 0.7647\n",
            "Epoch 150/150\n",
            "35/35 [==============================] - 0s 4ms/step - loss: 0.3552 - accuracy: 0.8401 - val_loss: 0.5009 - val_accuracy: 0.7647\n"
          ]
        }
      ],
      "source": [
        "# אימון המודל בעזרת מאגר הנתונים\n",
        "\n",
        "history = model.fit(X_train, y_train, validation_split=0.33, epochs=150, batch_size=10)\n",
        "\n",
        "# משתנה ההיסטוריה, מכיל בתוכו מידע לגבי אימוני המודל לאורך הדורות"
      ]
    },
    {
      "cell_type": "markdown",
      "source": [
        "## 5. הערכת המודל"
      ],
      "metadata": {
        "id": "6h-DGwFDXZkO"
      }
    },
    {
      "cell_type": "code",
      "source": [
        "#הערכת מודל הקראס בזמן האימון\n",
        "_, accuracy = model.evaluate(X_train, y_train)\n",
        "print('Accuracy: %.2f' % (accuracy*100))"
      ],
      "metadata": {
        "id": "SPgOa-GJXcKt",
        "colab": {
          "base_uri": "https://localhost:8080/"
        },
        "outputId": "dfa13ef7-a025-431b-e78c-01553aae63fc"
      },
      "execution_count": 59,
      "outputs": [
        {
          "output_type": "stream",
          "name": "stdout",
          "text": [
            "17/17 [==============================] - 0s 2ms/step - loss: 0.4009 - accuracy: 0.8152\n",
            "Accuracy: 81.52\n"
          ]
        }
      ]
    },
    {
      "cell_type": "markdown",
      "source": [
        "## 6. הניסיון לחזות תוצאות "
      ],
      "metadata": {
        "id": "H3FX7XKeXlf7"
      }
    },
    {
      "cell_type": "code",
      "source": [
        "# מחזיק בתוכו מידע לגבי הערכת המודל בהינתן נתוני הטסט\n",
        "predictions = np.argmax(model.predict(X_test), axis=-1)\n",
        "\n",
        "#בדיקת ההצלחה עבור N המקרים הראשונה\n",
        "n = 5\n",
        "for i in range(n):\n",
        "    print('%s => %d (expected %d)' % (X_test[i].tolist(), predictions[i], y[i]))"
      ],
      "metadata": {
        "id": "fCvNnOqEXq4R",
        "colab": {
          "base_uri": "https://localhost:8080/"
        },
        "outputId": "0a42e48d-0093-4b8a-fcce-e8b24303cdf0"
      },
      "execution_count": 60,
      "outputs": [
        {
          "output_type": "stream",
          "name": "stdout",
          "text": [
            "[0.6399472601593618, -0.7165334717264664, -0.5741277459136239, 0.7818138030884967, 0.956859653030945, 0.2547804694892943, -0.1264714020604746, 0.8303811324799336] => 0 (expected 1)\n",
            "[-0.5479185907225473, -0.2783734371474431, 0.30473400231574344, 0.7190857419965655, -0.6928905722954664, 0.47054318659717476, -0.9781448690748636, -1.0415494364835027] => 0 (expected 0)\n",
            "[-0.5479185907225473, -0.4035620184557355, -0.2639412465385531, -1.2882122129452327, -0.6928905722954664, -0.1513611156549505, -0.9479436823013037, -1.0415494364835027] => 0 (expected 1)\n",
            "[1.233880185600316, -0.4348591637828086, 0.5632227517949692, -1.2882122129452327, -0.6928905722954664, -0.9382604368719248, 1.1600991544931767, 0.06459135426761878] => 0 (expected 0)\n",
            "[0.9369137228798391, 0.4727580507023112, 1.0802002507534205, -1.2882122129452327, -0.6928905722954664, -0.26558843647676966, -0.7908975110787921, 1.4259954044228451] => 0 (expected 1)\n"
          ]
        }
      ]
    },
    {
      "cell_type": "code",
      "execution_count": 61,
      "metadata": {
        "id": "ID7E3r8MbR_q",
        "outputId": "017d4920-7c8f-40a1-d5ec-e011144ce136",
        "colab": {
          "base_uri": "https://localhost:8080/"
        }
      },
      "outputs": [
        {
          "output_type": "execute_result",
          "data": {
            "text/plain": [
              "0.7401574803149606"
            ]
          },
          "metadata": {},
          "execution_count": 61
        }
      ],
      "source": [
        "#שיעור פונקציית הדיוק\n",
        "y_pred = model.predict(X_test)\n",
        "\n",
        "y_pred = np.argmax(y_pred, axis=1) \n",
        "\n",
        "accuracy_score(y_test, y_pred)"
      ]
    },
    {
      "cell_type": "code",
      "execution_count": 62,
      "metadata": {
        "id": "OWkjhNxrbR_r",
        "outputId": "d38b6d33-8881-4152-bff8-04df1585b3a7",
        "colab": {
          "base_uri": "https://localhost:8080/"
        }
      },
      "outputs": [
        {
          "output_type": "stream",
          "name": "stdout",
          "text": [
            "['loss', 'accuracy']\n"
          ]
        }
      ],
      "source": [
        "#הדפסת מטריצת המודל, דיוק כנגד הפסד\n",
        "print(model.metrics_names)"
      ]
    },
    {
      "cell_type": "markdown",
      "metadata": {
        "id": "P043hUHGbR_r"
      },
      "source": [
        "אחד מן האובייקטים היעילים והבסיסיים ביותר אשר משתמשים \n",
        "בהם בעת אימון מודל למיקה עמוקה היא פונקציית ההיסטוריה\n",
        "\n",
        "זו מתעדת את מטריצות האימון של כל דור, אלו מכילות מידע \n",
        "בנוגע להפסד ולדיוק של הפונקציה בכל דור\n",
        "\n",
        "אובייקט ההיסטוריה מוחזר בעת הקריאה לפונקציית האימון והמטריצות שלו מאוחסנות בדיקצ'נרי הנ\"ל (מבנה הנתונים)"
      ]
    },
    {
      "cell_type": "code",
      "execution_count": 63,
      "metadata": {
        "id": "ujGJ-SlXbR_r",
        "outputId": "be3af795-276c-4b43-bf6a-19356160b353",
        "colab": {
          "base_uri": "https://localhost:8080/"
        }
      },
      "outputs": [
        {
          "output_type": "stream",
          "name": "stdout",
          "text": [
            "dict_keys(['loss', 'accuracy', 'val_loss', 'val_accuracy'])\n"
          ]
        }
      ],
      "source": [
        "print(history.history.keys())"
      ]
    },
    {
      "cell_type": "markdown",
      "source": [
        "## 7. שרטוט גרפי הדיוק וההפסד\n",
        "\n",
        "לגרפי הדיוק וההפסד היכולת להדגים דברים יעילים במודל\n",
        " כגון\n",
        "\n",
        " * מהירות ההתכנסות שלו לאורך הדורות (השיפוע) \n",
        " * האם המודל אומן יתר על המידה (ירידה של הגרף) \n",
        " * עד כמה המודל מדויק"
      ],
      "metadata": {
        "id": "zUJzCUvfZ2g6"
      }
    },
    {
      "cell_type": "code",
      "execution_count": 64,
      "metadata": {
        "id": "FUKtsIBLbR_t",
        "outputId": "a869e0a1-7186-4547-cadf-b4be9351de3b",
        "colab": {
          "base_uri": "https://localhost:8080/",
          "height": 295
        }
      },
      "outputs": [
        {
          "output_type": "display_data",
          "data": {
            "text/plain": [
              "<Figure size 432x288 with 1 Axes>"
            ],
            "image/png": "[encoded data removed]"
          },
          "metadata": {
            "needs_background": "light"
          }
        }
      ],
      "source": [
        "#  סיכום ההיסטוריה עבור ההפסד\n",
        "plt.plot(history.history['loss'])\n",
        "plt.plot(history.history['val_loss'])\n",
        "plt.title('model loss')\n",
        "plt.ylabel('loss')\n",
        "plt.xlabel('epoch')\n",
        "plt.legend(['train', 'test'], loc='upper left')\n",
        "plt.show()"
      ]
    },
    {
      "cell_type": "code",
      "execution_count": 65,
      "metadata": {
        "colab": {
          "base_uri": "https://localhost:8080/",
          "height": 295
        },
        "id": "KGkmh3DubR_t",
        "outputId": "f1754b5e-31d6-4aaf-f5f0-dbd6983afe53"
      },
      "outputs": [
        {
          "output_type": "display_data",
          "data": {
            "text/plain": [
              "<Figure size 432x288 with 1 Axes>"
            ],
            "image/png": "[encoded data removed]"
          },
          "metadata": {
            "needs_background": "light"
          }
        }
      ],
      "source": [
        "# סיכום ההיסטוריה עבור הדיוק\n",
        "plt.plot(history.history['accuracy'])\n",
        "plt.plot(history.history['val_accuracy'])\n",
        "plt.title('model accuracy')\n",
        "plt.ylabel('accuracy')\n",
        "plt.xlabel('epoch')\n",
        "plt.legend(['train', 'test'], loc='upper left')\n",
        "plt.show()"
      ]
    },
    {
      "cell_type": "markdown",
      "source": [
        "# מידע נוסף על העבודה ניתן למצוא פה:\n",
        "https://github.com/OzKedem/NeuralNetDiabetes"
      ],
      "metadata": {
        "id": "PvWzyg3XbKIy"
      }
    }
  ]
}